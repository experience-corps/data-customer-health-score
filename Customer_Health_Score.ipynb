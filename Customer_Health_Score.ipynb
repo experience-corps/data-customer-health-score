{
 "cells": [
  {
   "attachments": {},
   "cell_type": "markdown",
   "metadata": {},
   "source": [
    "# Customer Health/Risk Score Project\n",
    "\n",
    "Author: Lavinia Wang <br>\n",
    "@Showpad\n",
    "\n",
    "This project aims to use Showpad customers' (legal) profile(historical data) to build statistical models that will help understand:\n",
    "- What patterns indicate customer will churn\n",
    "- How likely the customer is going to churn\n",
    "- What score the customer should be labeled in terms of risk to churn\n",
    "\n",
    "Methods:\n",
    "- Logistic regression\n",
    "- Decision Tree"
   ]
  },
  {
   "cell_type": "code",
   "execution_count": 1,
   "metadata": {},
   "outputs": [],
   "source": [
    "## Import modules\n",
    "import numpy as np\n",
    "import pandas as pd\n",
    "import matplotlib.pyplot as plt\n",
    "import seaborn as sns\n",
    "%matplotlib inline\n",
    "\n",
    "from sklearn.impute import SimpleImputer\n",
    "from sklearn import preprocessing"
   ]
  },
  {
   "cell_type": "code",
   "execution_count": 2,
   "metadata": {},
   "outputs": [],
   "source": [
    "## Load file into pandas\n",
    "## Data starts in row #5\n",
    "df = pd.read_csv(\"/Users/liyan.wang/Desktop/Customer Health Score/Metadata SFDC (customers active at Feb2018) - Main.csv\", header=0)\n",
    "df = df[4:].reset_index(drop=True)\n",
    "#df"
   ]
  },
  {
   "cell_type": "code",
   "execution_count": 3,
   "metadata": {},
   "outputs": [
    {
     "data": {
      "text/plain": [
       "(1087, 41)"
      ]
     },
     "execution_count": 3,
     "metadata": {},
     "output_type": "execute_result"
    }
   ],
   "source": [
    "df.shape"
   ]
  },
  {
   "cell_type": "code",
   "execution_count": 4,
   "metadata": {},
   "outputs": [
    {
     "data": {
      "text/html": [
       "<div>\n",
       "<style scoped>\n",
       "    .dataframe tbody tr th:only-of-type {\n",
       "        vertical-align: middle;\n",
       "    }\n",
       "\n",
       "    .dataframe tbody tr th {\n",
       "        vertical-align: top;\n",
       "    }\n",
       "\n",
       "    .dataframe thead th {\n",
       "        text-align: right;\n",
       "    }\n",
       "</style>\n",
       "<table border=\"1\" class=\"dataframe\">\n",
       "  <thead>\n",
       "    <tr style=\"text-align: right;\">\n",
       "      <th></th>\n",
       "      <th>Customer Name</th>\n",
       "      <th>SFDC Account ID</th>\n",
       "      <th>Account Status</th>\n",
       "      <th>Okay for Speech API Rollout?</th>\n",
       "      <th>Current Location (primary)</th>\n",
       "      <th>Current Location (secondary)</th>\n",
       "      <th>Filename (primary)</th>\n",
       "      <th>Filename (secondary)</th>\n",
       "      <th>Initial Term Start Date</th>\n",
       "      <th>Initial Term Length</th>\n",
       "      <th>...</th>\n",
       "      <th>Account Contract End Date</th>\n",
       "      <th>Account Owner</th>\n",
       "      <th>Customer Success Coach</th>\n",
       "      <th>Expected Renewal ARR * Currency</th>\n",
       "      <th>Package</th>\n",
       "      <th>Assigned users</th>\n",
       "      <th>Segment</th>\n",
       "      <th>Billing State/Province</th>\n",
       "      <th>Billing Country</th>\n",
       "      <th>Hoovers Industry</th>\n",
       "    </tr>\n",
       "  </thead>\n",
       "  <tbody>\n",
       "    <tr>\n",
       "      <th>count</th>\n",
       "      <td>1087</td>\n",
       "      <td>1087</td>\n",
       "      <td>1087</td>\n",
       "      <td>1087</td>\n",
       "      <td>1069</td>\n",
       "      <td>724</td>\n",
       "      <td>1065</td>\n",
       "      <td>720</td>\n",
       "      <td>1080</td>\n",
       "      <td>1080</td>\n",
       "      <td>...</td>\n",
       "      <td>1079</td>\n",
       "      <td>1087</td>\n",
       "      <td>1072</td>\n",
       "      <td>1087</td>\n",
       "      <td>1087</td>\n",
       "      <td>1087</td>\n",
       "      <td>1087</td>\n",
       "      <td>523</td>\n",
       "      <td>1086</td>\n",
       "      <td>330</td>\n",
       "    </tr>\n",
       "    <tr>\n",
       "      <th>unique</th>\n",
       "      <td>1087</td>\n",
       "      <td>1087</td>\n",
       "      <td>12</td>\n",
       "      <td>8</td>\n",
       "      <td>1027</td>\n",
       "      <td>678</td>\n",
       "      <td>1028</td>\n",
       "      <td>676</td>\n",
       "      <td>658</td>\n",
       "      <td>19</td>\n",
       "      <td>...</td>\n",
       "      <td>350</td>\n",
       "      <td>36</td>\n",
       "      <td>20</td>\n",
       "      <td>3</td>\n",
       "      <td>5</td>\n",
       "      <td>134</td>\n",
       "      <td>2</td>\n",
       "      <td>82</td>\n",
       "      <td>41</td>\n",
       "      <td>138</td>\n",
       "    </tr>\n",
       "    <tr>\n",
       "      <th>top</th>\n",
       "      <td>Premier Companies UK</td>\n",
       "      <td>001D000001RgVV1</td>\n",
       "      <td>Active Customer - Content</td>\n",
       "      <td>ok</td>\n",
       "      <td>Conga-SAI-00654</td>\n",
       "      <td>Box: RestrictedLegal/Contract/Customer Contrac...</td>\n",
       "      <td>Saint-Gobain SSA 30nov2015</td>\n",
       "      <td>Arval Service Lease SA SO 21dec2017</td>\n",
       "      <td>31Dec2017</td>\n",
       "      <td>12</td>\n",
       "      <td>...</td>\n",
       "      <td>31/12/2018</td>\n",
       "      <td>Bartel Van Herreweghe</td>\n",
       "      <td>Celine Vincent</td>\n",
       "      <td>EUR</td>\n",
       "      <td>Essential</td>\n",
       "      <td>100</td>\n",
       "      <td>MM</td>\n",
       "      <td>California</td>\n",
       "      <td>United States</td>\n",
       "      <td>Medical Equipment &amp; Supplies Manufacturing</td>\n",
       "    </tr>\n",
       "    <tr>\n",
       "      <th>freq</th>\n",
       "      <td>1</td>\n",
       "      <td>1</td>\n",
       "      <td>711</td>\n",
       "      <td>821</td>\n",
       "      <td>23</td>\n",
       "      <td>20</td>\n",
       "      <td>23</td>\n",
       "      <td>20</td>\n",
       "      <td>42</td>\n",
       "      <td>992</td>\n",
       "      <td>...</td>\n",
       "      <td>85</td>\n",
       "      <td>238</td>\n",
       "      <td>321</td>\n",
       "      <td>642</td>\n",
       "      <td>623</td>\n",
       "      <td>385</td>\n",
       "      <td>834</td>\n",
       "      <td>65</td>\n",
       "      <td>301</td>\n",
       "      <td>28</td>\n",
       "    </tr>\n",
       "  </tbody>\n",
       "</table>\n",
       "<p>4 rows × 36 columns</p>\n",
       "</div>"
      ],
      "text/plain": [
       "               Customer Name  SFDC Account ID             Account Status  \\\n",
       "count                   1087             1087                       1087   \n",
       "unique                  1087             1087                         12   \n",
       "top     Premier Companies UK  001D000001RgVV1  Active Customer - Content   \n",
       "freq                       1                1                        711   \n",
       "\n",
       "       Okay for Speech API Rollout? Current Location (primary)  \\\n",
       "count                          1087                       1069   \n",
       "unique                            8                       1027   \n",
       "top                              ok            Conga-SAI-00654   \n",
       "freq                            821                         23   \n",
       "\n",
       "                             Current Location (secondary)  \\\n",
       "count                                                 724   \n",
       "unique                                                678   \n",
       "top     Box: RestrictedLegal/Contract/Customer Contrac...   \n",
       "freq                                                   20   \n",
       "\n",
       "                Filename (primary)                 Filename (secondary)  \\\n",
       "count                         1065                                  720   \n",
       "unique                        1028                                  676   \n",
       "top     Saint-Gobain SSA 30nov2015  Arval Service Lease SA SO 21dec2017   \n",
       "freq                            23                                   20   \n",
       "\n",
       "       Initial Term Start Date Initial Term Length  ...  \\\n",
       "count                     1080                1080  ...   \n",
       "unique                     658                  19  ...   \n",
       "top                  31Dec2017                  12  ...   \n",
       "freq                        42                 992  ...   \n",
       "\n",
       "       Account Contract End Date          Account Owner  \\\n",
       "count                       1079                   1087   \n",
       "unique                       350                     36   \n",
       "top                   31/12/2018  Bartel Van Herreweghe   \n",
       "freq                          85                    238   \n",
       "\n",
       "       Customer Success Coach Expected Renewal ARR * Currency    Package  \\\n",
       "count                    1072                            1087       1087   \n",
       "unique                     20                               3          5   \n",
       "top            Celine Vincent                             EUR  Essential   \n",
       "freq                      321                             642        623   \n",
       "\n",
       "       Assigned users Segment Billing State/Province Billing Country  \\\n",
       "count            1087    1087                    523            1086   \n",
       "unique            134       2                     82              41   \n",
       "top               100      MM             California   United States   \n",
       "freq              385     834                     65             301   \n",
       "\n",
       "                                  Hoovers Industry  \n",
       "count                                          330  \n",
       "unique                                         138  \n",
       "top     Medical Equipment & Supplies Manufacturing  \n",
       "freq                                            28  \n",
       "\n",
       "[4 rows x 36 columns]"
      ]
     },
     "execution_count": 4,
     "metadata": {},
     "output_type": "execute_result"
    }
   ],
   "source": [
    "df.describe(include=\"O\")"
   ]
  },
  {
   "cell_type": "code",
   "execution_count": 5,
   "metadata": {},
   "outputs": [
    {
     "data": {
      "text/html": [
       "<div>\n",
       "<style scoped>\n",
       "    .dataframe tbody tr th:only-of-type {\n",
       "        vertical-align: middle;\n",
       "    }\n",
       "\n",
       "    .dataframe tbody tr th {\n",
       "        vertical-align: top;\n",
       "    }\n",
       "\n",
       "    .dataframe thead th {\n",
       "        text-align: right;\n",
       "    }\n",
       "</style>\n",
       "<table border=\"1\" class=\"dataframe\">\n",
       "  <thead>\n",
       "    <tr style=\"text-align: right;\">\n",
       "      <th></th>\n",
       "      <th>Expected Renewal ARR *</th>\n",
       "      <th>N° of Licenses</th>\n",
       "      <th>Used Licenses</th>\n",
       "      <th>Employees</th>\n",
       "      <th>Fortune Rank</th>\n",
       "    </tr>\n",
       "  </thead>\n",
       "  <tbody>\n",
       "    <tr>\n",
       "      <th>count</th>\n",
       "      <td>1087.000000</td>\n",
       "      <td>1087.000000</td>\n",
       "      <td>1087.000000</td>\n",
       "      <td>725.000000</td>\n",
       "      <td>56.000000</td>\n",
       "    </tr>\n",
       "    <tr>\n",
       "      <th>mean</th>\n",
       "      <td>21767.509126</td>\n",
       "      <td>114.708372</td>\n",
       "      <td>95.949402</td>\n",
       "      <td>10218.663448</td>\n",
       "      <td>214.035714</td>\n",
       "    </tr>\n",
       "    <tr>\n",
       "      <th>std</th>\n",
       "      <td>44749.374503</td>\n",
       "      <td>400.164184</td>\n",
       "      <td>367.383186</td>\n",
       "      <td>33080.652847</td>\n",
       "      <td>307.364395</td>\n",
       "    </tr>\n",
       "    <tr>\n",
       "      <th>min</th>\n",
       "      <td>-679.350000</td>\n",
       "      <td>0.000000</td>\n",
       "      <td>0.000000</td>\n",
       "      <td>0.000000</td>\n",
       "      <td>0.000000</td>\n",
       "    </tr>\n",
       "    <tr>\n",
       "      <th>25%</th>\n",
       "      <td>3000.000000</td>\n",
       "      <td>10.000000</td>\n",
       "      <td>7.000000</td>\n",
       "      <td>100.000000</td>\n",
       "      <td>0.000000</td>\n",
       "    </tr>\n",
       "    <tr>\n",
       "      <th>50%</th>\n",
       "      <td>8400.000000</td>\n",
       "      <td>25.000000</td>\n",
       "      <td>19.000000</td>\n",
       "      <td>430.000000</td>\n",
       "      <td>0.000000</td>\n",
       "    </tr>\n",
       "    <tr>\n",
       "      <th>75%</th>\n",
       "      <td>21627.500000</td>\n",
       "      <td>65.000000</td>\n",
       "      <td>54.000000</td>\n",
       "      <td>3800.000000</td>\n",
       "      <td>416.000000</td>\n",
       "    </tr>\n",
       "    <tr>\n",
       "      <th>max</th>\n",
       "      <td>725400.000000</td>\n",
       "      <td>7500.000000</td>\n",
       "      <td>7228.000000</td>\n",
       "      <td>219678.000000</td>\n",
       "      <td>948.000000</td>\n",
       "    </tr>\n",
       "  </tbody>\n",
       "</table>\n",
       "</div>"
      ],
      "text/plain": [
       "       Expected Renewal ARR *  N° of Licenses  Used Licenses      Employees  \\\n",
       "count             1087.000000     1087.000000    1087.000000     725.000000   \n",
       "mean             21767.509126      114.708372      95.949402   10218.663448   \n",
       "std              44749.374503      400.164184     367.383186   33080.652847   \n",
       "min               -679.350000        0.000000       0.000000       0.000000   \n",
       "25%               3000.000000       10.000000       7.000000     100.000000   \n",
       "50%               8400.000000       25.000000      19.000000     430.000000   \n",
       "75%              21627.500000       65.000000      54.000000    3800.000000   \n",
       "max             725400.000000     7500.000000    7228.000000  219678.000000   \n",
       "\n",
       "       Fortune Rank  \n",
       "count     56.000000  \n",
       "mean     214.035714  \n",
       "std      307.364395  \n",
       "min        0.000000  \n",
       "25%        0.000000  \n",
       "50%        0.000000  \n",
       "75%      416.000000  \n",
       "max      948.000000  "
      ]
     },
     "execution_count": 5,
     "metadata": {},
     "output_type": "execute_result"
    }
   ],
   "source": [
    "## Look at descriptive statistics of numeric variables\n",
    "df.describe()"
   ]
  },
  {
   "cell_type": "code",
   "execution_count": 6,
   "metadata": {},
   "outputs": [
    {
     "data": {
      "text/plain": [
       "Index(['Customer Name', 'SFDC Account ID', 'Account Status',\n",
       "       'Okay for Speech API Rollout?', 'Current Location (primary)',\n",
       "       'Current Location (secondary)', 'Filename (primary)',\n",
       "       'Filename (secondary)', 'Initial Term Start Date',\n",
       "       'Initial Term Length', 'Auto-renewal', 'Termination Rights',\n",
       "       'Marketing', 'Non-Solicit Obligations', 'Legal Terms and Conditions',\n",
       "       'SLA', 'DPA', 'Privacy Policy Change Notice Requirement',\n",
       "       'Data or Security Breach Notice Requirement',\n",
       "       'Change of Control provision', 'Governing Law',\n",
       "       'Notable Non-Standard Terms', 'Outrageous Terms',\n",
       "       'Expected Renewal ARR * (converted) Currency',\n",
       "       'Expected Renewal ARR * (converted)', 'Account Status.1',\n",
       "       'Account Contract End Date', 'Account Owner', 'Customer Success Coach',\n",
       "       'Expected Renewal ARR * Currency', 'Expected Renewal ARR *', 'Package',\n",
       "       'N° of Licenses', 'Used Licenses', 'Assigned users', 'Segment',\n",
       "       'Employees', 'Fortune Rank', 'Billing State/Province',\n",
       "       'Billing Country', 'Hoovers Industry'],\n",
       "      dtype='object')"
      ]
     },
     "execution_count": 6,
     "metadata": {},
     "output_type": "execute_result"
    }
   ],
   "source": [
    "## Ouput column names for future use\n",
    "df.columns"
   ]
  },
  {
   "cell_type": "markdown",
   "metadata": {},
   "source": [
    "## Variable Exploration "
   ]
  },
  {
   "cell_type": "markdown",
   "metadata": {},
   "source": [
    "Explore distribution of various levels in each categorical variable that should be used in the model"
   ]
  },
  {
   "cell_type": "code",
   "execution_count": 7,
   "metadata": {},
   "outputs": [],
   "source": [
    "## Function that takes dataframe group by each categorical column/variable\n",
    "## Output a table shows grouping numbers by different levels and a bar chart to visualize\n",
    "\n",
    "def exploration(data, variable):\n",
    "    lst = data.groupby(by=variable).count()\n",
    "    lst = lst['SFDC Account ID']\n",
    "    print(lst)\n",
    "    lst.plot.bar()  "
   ]
  },
  {
   "cell_type": "code",
   "execution_count": 8,
   "metadata": {},
   "outputs": [],
   "source": [
    "#c_Speech_API_Rollout = exploration(df,'Okay for Speech API Rollout?')\n",
    "#c_Initial_Term_Length = exploration(df,'Initial Term Length')\n",
    "#c_Auto_renewal = exploration(df, 'Auto-renewal')\n",
    "#c_Termination_Rights = exploration(df,'Termination Rights')\n",
    "#c_Marketing = exploration(df,'Marketing')\n",
    "#c_Non_Solicit_Obligations = exploration(df,'Non-Solicit Obligations')\n",
    "#c_Legal_Terms_Conditions = exploration(df, 'Legal Terms and Conditions')\n",
    "#c_SLA = exploration(df,'SLA')\n",
    "#c_DPA = exploration(df,'DPA')\n",
    "#c_Privacy_Change_Notice = exploration(df,'Privacy Policy Change Notice Requirement')\n",
    "#c_Data_Security_Breach_Notice = exploration(df,'Data or Security Breach Notice Requirement')\n",
    "#c_Control_provision = exploration(df,'Change of Control provision')\n",
    "#c_Governing_Law = exploration(df,'Governing Law')\n",
    "#c_Outrageous_Terms = exploration(df,'Outrageous Terms')\n",
    "#c_account = exploration(df,'Account Status')\n",
    "#c_Account_Owner = exploration(df,'Account Owner')\n",
    "#c_Customer_Success_Coach = exploration(df,'Customer Success Coach')\n",
    "#c_Package = exploration(df,'Package')\n",
    "#c_Segment = exploration(df,'Segment')"
   ]
  },
  {
   "cell_type": "markdown",
   "metadata": {},
   "source": [
    "<b>After disucssion with legal team @6/27/2019 3:30:-4:30 pm CST, 'Account status' is selected as dependent/outcome variable. Therefore this is a typical prediction problem for calculating probability of an instance (churn) and feature selected can be used for interpretation. </b>\n",
    "    \n",
    "1. Transformation need to be done:\n",
    "    - Remove varibales irrevelant to model building, which are: 'SFDC Account ID','Current Location (primary)', 'Current Location (secondary)', 'Filename (primary)', 'Filename (secondary)',  'Account Contract End Date', 'Account Owner', 'Customer Success Coach', 'Fortune Rank', 'Billing State/Province', 'Billing Country', 'Hoovers Industry'\n",
    "    - Remove rows with missing or irrelevant values(consent with legal team)\n",
    "    - Transform 'Initial term start date' into 'Duration', which is calculated from initial term start date and use today's date as the end date.\n",
    "    - Group/bin variables into a more standard format, e.g 'Auto-renewal' \n",
    "    - Convert 'Notable Non-standard Terms' and 'Outrageous Terms' into a binary answer question, i.e. any filled-in contents is considered 'Yes' and no is 'No'\n",
    "    - Convert currency into a uniformed format, i.e. use 'Expected Renewal ARR *' of its own currency to generate renewal ARR in EUR \n",
    "    - Follow up with @Joy on how to group variables 'Okay for Speech API Rollout' and 'Governing Law'\n",
    "\n",
    "2. Create dummy variables for all revelant categorical variables\n",
    "3. Normalize data for modeling"
   ]
  },
  {
   "cell_type": "markdown",
   "metadata": {},
   "source": [
    "## Transformation"
   ]
  },
  {
   "cell_type": "markdown",
   "metadata": {},
   "source": [
    "- <b>Remove irrelevant variables from dataframe</b>"
   ]
  },
  {
   "cell_type": "code",
   "execution_count": 9,
   "metadata": {},
   "outputs": [],
   "source": [
    "df_copy = df.drop(labels=['SFDC Account ID','Current Location (primary)', 'Current Location (secondary)', \n",
    "                          'Filename (primary)', 'Filename (secondary)', 'Expected Renewal ARR * (converted) Currency',\n",
    "                          'Expected Renewal ARR * (converted)', 'Account Status.1', 'Account Contract End Date', \n",
    "                          'Account Owner','Customer Success Coach', 'Fortune Rank', 'Billing State/Province', \n",
    "                          'Billing Country', 'Hoovers Industry'], axis=1)\n",
    "#df_copy.head()"
   ]
  },
  {
   "cell_type": "markdown",
   "metadata": {},
   "source": [
    "- <b>Remove irrelevant account status from dataframe</b>"
   ]
  },
  {
   "cell_type": "code",
   "execution_count": 167,
   "metadata": {},
   "outputs": [],
   "source": [
    "## Remove rows from dataframe where account status are:\n",
    "## Active Customer - Reverse Ghost     27\n",
    "## Ghost Active - Content               2\n",
    "## Ghost Churned                        3\n",
    "## Lead Partner                         1\n",
    "## Prospect                            16\n",
    "## Sandbox                              1\n",
    "\n",
    "remove_list = ['Active Customer - Reverse Ghost', 'Ghost Active - Content', 'Ghost Churned', 'Lead Partner', \n",
    "              'Prospect', 'Sandbox']\n",
    "\n",
    "for i in range(len(remove_list)):\n",
    "    df_copy = df_copy[df_copy['Account Status'] != remove_list[i]]\n",
    "\n",
    "#df_copy\n",
    "## There are 1037 rows left"
   ]
  },
  {
   "cell_type": "markdown",
   "metadata": {},
   "source": [
    "- <b> Remove rows with null in 'Initial Term Start Date' </b>"
   ]
  },
  {
   "cell_type": "code",
   "execution_count": 11,
   "metadata": {},
   "outputs": [
    {
     "data": {
      "text/html": [
       "<div>\n",
       "<style scoped>\n",
       "    .dataframe tbody tr th:only-of-type {\n",
       "        vertical-align: middle;\n",
       "    }\n",
       "\n",
       "    .dataframe tbody tr th {\n",
       "        vertical-align: top;\n",
       "    }\n",
       "\n",
       "    .dataframe thead th {\n",
       "        text-align: right;\n",
       "    }\n",
       "</style>\n",
       "<table border=\"1\" class=\"dataframe\">\n",
       "  <thead>\n",
       "    <tr style=\"text-align: right;\">\n",
       "      <th></th>\n",
       "      <th>Customer Name</th>\n",
       "      <th>Account Status</th>\n",
       "      <th>Okay for Speech API Rollout?</th>\n",
       "      <th>Initial Term Start Date</th>\n",
       "      <th>Initial Term Length</th>\n",
       "      <th>Auto-renewal</th>\n",
       "      <th>Termination Rights</th>\n",
       "      <th>Marketing</th>\n",
       "      <th>Non-Solicit Obligations</th>\n",
       "      <th>Legal Terms and Conditions</th>\n",
       "      <th>...</th>\n",
       "      <th>Notable Non-Standard Terms</th>\n",
       "      <th>Outrageous Terms</th>\n",
       "      <th>Expected Renewal ARR * Currency</th>\n",
       "      <th>Expected Renewal ARR *</th>\n",
       "      <th>Package</th>\n",
       "      <th>N° of Licenses</th>\n",
       "      <th>Used Licenses</th>\n",
       "      <th>Assigned users</th>\n",
       "      <th>Segment</th>\n",
       "      <th>Employees</th>\n",
       "    </tr>\n",
       "  </thead>\n",
       "  <tbody>\n",
       "    <tr>\n",
       "      <th>964</th>\n",
       "      <td>Technology Association of Oregon</td>\n",
       "      <td>Churned Customer</td>\n",
       "      <td>ok</td>\n",
       "      <td>NaN</td>\n",
       "      <td>NaN</td>\n",
       "      <td>NaN</td>\n",
       "      <td>NaN</td>\n",
       "      <td>NaN</td>\n",
       "      <td>NaN</td>\n",
       "      <td>NaN</td>\n",
       "      <td>...</td>\n",
       "      <td>NaN</td>\n",
       "      <td>NaN</td>\n",
       "      <td>USD</td>\n",
       "      <td>0.0</td>\n",
       "      <td>Essential</td>\n",
       "      <td>2.0</td>\n",
       "      <td>2.0</td>\n",
       "      <td>100</td>\n",
       "      <td>MM</td>\n",
       "      <td>12.0</td>\n",
       "    </tr>\n",
       "  </tbody>\n",
       "</table>\n",
       "<p>1 rows × 26 columns</p>\n",
       "</div>"
      ],
      "text/plain": [
       "                        Customer Name    Account Status  \\\n",
       "964  Technology Association of Oregon  Churned Customer   \n",
       "\n",
       "    Okay for Speech API Rollout? Initial Term Start Date Initial Term Length  \\\n",
       "964                           ok                     NaN                 NaN   \n",
       "\n",
       "    Auto-renewal Termination Rights Marketing Non-Solicit Obligations  \\\n",
       "964          NaN                NaN       NaN                     NaN   \n",
       "\n",
       "    Legal Terms and Conditions  ... Notable Non-Standard Terms  \\\n",
       "964                        NaN  ...                        NaN   \n",
       "\n",
       "    Outrageous Terms Expected Renewal ARR * Currency Expected Renewal ARR *  \\\n",
       "964              NaN                             USD                    0.0   \n",
       "\n",
       "       Package N° of Licenses Used Licenses Assigned users Segment  Employees  \n",
       "964  Essential            2.0           2.0            100      MM       12.0  \n",
       "\n",
       "[1 rows x 26 columns]"
      ]
     },
     "execution_count": 11,
     "metadata": {},
     "output_type": "execute_result"
    }
   ],
   "source": [
    "null_row = df_copy[df_copy['Initial Term Start Date'].isnull()]\n",
    "null_row"
   ]
  },
  {
   "cell_type": "code",
   "execution_count": 12,
   "metadata": {},
   "outputs": [],
   "source": [
    "df_copy = df_copy[df_copy['Customer Name'] != 'Technology Association of Oregon']\n",
    "df_copy = df_copy.reset_index(drop=True)"
   ]
  },
  {
   "cell_type": "code",
   "execution_count": 13,
   "metadata": {},
   "outputs": [
    {
     "data": {
      "text/plain": [
       "(1036, 26)"
      ]
     },
     "execution_count": 13,
     "metadata": {},
     "output_type": "execute_result"
    }
   ],
   "source": [
    "df_copy.shape"
   ]
  },
  {
   "cell_type": "markdown",
   "metadata": {},
   "source": [
    "- <b>Change 'Initial term start date' into 'Duration' then bin the variable</b>"
   ]
  },
  {
   "cell_type": "code",
   "execution_count": 14,
   "metadata": {},
   "outputs": [],
   "source": [
    "df_copy['start_date'] = pd.to_datetime(df_copy['Initial Term Start Date'])"
   ]
  },
  {
   "cell_type": "code",
   "execution_count": 15,
   "metadata": {},
   "outputs": [],
   "source": [
    "## Use strftime (string format time) to get string mm/dd/yyyy instead of the datetime object\n",
    "import datetime as dt\n",
    "end_date = dt.datetime.today().strftime(\"%m/%d/%Y\")\n",
    "end_date = pd.to_datetime(end_date)\n",
    "end_date = [end_date for i in range (len(df_copy))]\n",
    "df_copy['end_date'] = end_date\n",
    "#df_copy.head()"
   ]
  },
  {
   "cell_type": "code",
   "execution_count": 16,
   "metadata": {},
   "outputs": [],
   "source": [
    "## Create new variable called Duration representing \n",
    "## how long the customer has been with Showpad\n",
    "diff = (df_copy['end_date']- df_copy['start_date']).dt.days\n",
    "diff = diff.apply(lambda x : int(x))\n",
    "df_copy['duration'] = diff.astype(int)\n",
    "#diff.describe()"
   ]
  },
  {
   "cell_type": "code",
   "execution_count": 166,
   "metadata": {},
   "outputs": [],
   "source": [
    "#df_copy"
   ]
  },
  {
   "cell_type": "markdown",
   "metadata": {},
   "source": [
    "- <b>Group/bin variables</b>"
   ]
  },
  {
   "cell_type": "markdown",
   "metadata": {},
   "source": [
    "1. 'Okay for Speech API Rollout?'"
   ]
  },
  {
   "cell_type": "code",
   "execution_count": 18,
   "metadata": {},
   "outputs": [],
   "source": [
    "## 1: OK, 2: Hold for Special Notice, 3: Hold for Consent\n",
    "\n",
    "ok_list = ['OK-2', 'OK-3', 'OK-4', 'OK-DPA', 'ok', 'ok-5']\n",
    "\n",
    "tmp = df_copy['Okay for Speech API Rollout?']\n",
    "tmp = np.array(tmp)\n",
    "\n",
    "for i in range (tmp.size):\n",
    "    if tmp[i] in ok_list:\n",
    "        tmp[i] = '1'\n",
    "    elif tmp[i] == 'Hold for Special Notice':\n",
    "        tmp[i] = '2'\n",
    "    else: # tmp[i] == 'Hold for Consent'\n",
    "        tmp[i] = '3'\n",
    "           \n",
    "speech_api_rollout = pd.DataFrame(tmp)\n",
    "df_copy['speech_api_rollout'] = speech_api_rollout\n",
    "#df_copy.tail(20)"
   ]
  },
  {
   "cell_type": "markdown",
   "metadata": {},
   "source": [
    "2. 'Initial Term Length'"
   ]
  },
  {
   "cell_type": "code",
   "execution_count": 19,
   "metadata": {},
   "outputs": [],
   "source": [
    "## Customer: Dawn Capital is a partner with content in this field 'trial'\n",
    "## Remove row of 'Dawn Capital' from data\n",
    "## Create 4 equal width bins: (0,12],(12,24], (24,36],(36,48]\n",
    "\n",
    "tmp = df_copy['Initial Term Length']\n",
    "tmp = tmp.apply(lambda x: int(x))\n",
    "bins = [0, 12, 24, 36, 48]\n",
    "tmp_bin = pd.cut(tmp, bins).astype(str)\n",
    "#tmp_bin\n",
    "\n",
    "for i in range (tmp.size):\n",
    "    if tmp_bin[i] == '(0,12]':\n",
    "        tmp_bin[i] = '1'\n",
    "    elif tmp_bin[i] == '(12,24]':\n",
    "        tmp_bin[i] = '2'\n",
    "    elif tmp_bin[i] == '(24,36]':\n",
    "        tmp_bin[i] = '3'\n",
    "    else: # tmp[i] == '(36,48]'\n",
    "        tmp_bin[i] = '4'\n",
    "           \n",
    "\n",
    "df_copy['term_length'] = tmp_bin\n",
    "#df_copy.head()"
   ]
  },
  {
   "cell_type": "markdown",
   "metadata": {},
   "source": [
    "3. Auto-renewal"
   ]
  },
  {
   "cell_type": "code",
   "execution_count": 20,
   "metadata": {},
   "outputs": [],
   "source": [
    "yes_30_list = ['Yes', 'Yes ', 'Yes (30-day opt out)', 'Yes (30-day opt-out)', 'yes (30-day opt-out)',\n",
    "               'Yes (Custom- written confirmation; 30-day opt-out)', 'Yes (custom opt-out)', \n",
    "               'Yes (custom-30-day opt-out)', 'Yes (written agreement)', 'Yes (written notice)']\n",
    "yes_30_more_list = ['Yes (3-month opt-out)', 'Yes (90-day opt-out)', 'Yes (90-day notification & 30-day opt-out)']\n",
    "yes_30_less_list = ['Yes (1-day opt-out)', 'Yes (5-day opt-out)']\n",
    "no_list = ['No', 'No (written agreement)', 'No (written notice required)']\n",
    "## 1: 'No', 2: 'Yes - 30-day notice', 3:' Yes - less than 30-day notice', 4: 'Yes - greater than 30-day notice'\n",
    "\n",
    "tmp = df_copy['Auto-renewal']\n",
    "tmp = np.array(tmp)\n",
    "\n",
    "for i in range (tmp.size):\n",
    "    if tmp[i] in yes_30_list:\n",
    "        tmp[i] = '2'\n",
    "    elif tmp[i] in yes_30_less_list:\n",
    "        tmp[i] = '3'\n",
    "    elif tmp[i] in yes_30_more_list:\n",
    "        tmp[i] = '4'\n",
    "    else: \n",
    "        tmp[i] = '1'\n",
    "    \n",
    "auto_renewal = pd.DataFrame(tmp)\n",
    "df_copy['auto_renewal'] = auto_renewal\n",
    "#df_copy.head(30)"
   ]
  },
  {
   "cell_type": "markdown",
   "metadata": {},
   "source": [
    "4. 'Termination Rights'"
   ]
  },
  {
   "cell_type": "code",
   "execution_count": 21,
   "metadata": {},
   "outputs": [],
   "source": [
    "yes_90_less_list = ['Yes', 'Yes (30 days)', 'Yes (5 days)', 'Yes (60-day notice)', 'Yes (Custom)', 'Yes (first 3 months)',\n",
    "              'Yes (written notice)', 'Yes - 30-day notice', 'Yes- Two Months Notice', 'Yes-Custom']\n",
    "yes_90_or_more_list = ['Yes (90-day notice)', 'Yes - 90-day notice']\n",
    "## 1:'No', 2: 'Yes - less than 90-day notice', 3: 'Yes - at least 90-day notice'\n",
    "\n",
    "tmp = df_copy['Termination Rights']\n",
    "tmp = np.array(tmp)\n",
    "\n",
    "for i in range (tmp.size):\n",
    "    if tmp[i] in yes_90_less_list:\n",
    "        tmp[i] = '2'\n",
    "    elif tmp[i] in yes_90_or_more_list:\n",
    "        tmp[i] = '3'\n",
    "    else: \n",
    "        tmp[i] = '1'\n",
    "    \n",
    "termination_rights = pd.DataFrame(tmp)\n",
    "df_copy['termination_rights'] = termination_rights\n",
    "#df_copy.tail(30)"
   ]
  },
  {
   "cell_type": "markdown",
   "metadata": {},
   "source": [
    "5. 'Marketing' "
   ]
  },
  {
   "cell_type": "code",
   "execution_count": 22,
   "metadata": {},
   "outputs": [],
   "source": [
    "prohibition_list = ['Affirmative Prohibition', 'Affirmative prohibition', \n",
    "                    \"Referral Partner requires Showpad's approval\", 'No']\n",
    "silent_list = ['Silent', 'Silent ', 'Silent or Soft Commitment', 'Silent or Soft Commitment ', 'Silent or Soft Support']\n",
    "reference_list = ['Agreed to provide marketing support']\n",
    "enhanced_list = ['Enhanced marketing commitment']\n",
    "## 1: 'Affirmative prohibition', 2: 'Silent', 3: 'Basic permission to reference as a customer', \n",
    "## 4:'Enhanced marketing commitment'\n",
    "\n",
    "tmp = df_copy['Marketing']\n",
    "tmp = np.array(tmp)\n",
    "\n",
    "for i in range (tmp.size):\n",
    "    if tmp[i] in prohibition_list:\n",
    "        tmp[i] = '1'\n",
    "    elif tmp[i] in silent_list:\n",
    "        tmp[i] = '2'\n",
    "    elif tmp[i] in reference_list:\n",
    "        tmp[i] = '3'    \n",
    "    else: \n",
    "        tmp[i] = '4'\n",
    "        \n",
    "marketing = pd.DataFrame(tmp)\n",
    "df_copy['marketing'] = marketing\n",
    "#df_copy.head(5)"
   ]
  },
  {
   "cell_type": "markdown",
   "metadata": {},
   "source": [
    "6. 'Non-Solicit Obligations'"
   ]
  },
  {
   "cell_type": "code",
   "execution_count": 23,
   "metadata": {},
   "outputs": [],
   "source": [
    "yes_list = ['Yes', 'Yes - 1 year']\n",
    "\n",
    "tmp = df_copy['Non-Solicit Obligations']\n",
    "tmp = np.array(tmp)\n",
    "\n",
    "for i in range (tmp.size):\n",
    "    if tmp[i] in yes_list:\n",
    "        tmp[i] = '1'\n",
    "    else:\n",
    "        tmp[i] = '0'\n",
    "        \n",
    "obligations = pd.DataFrame(tmp)\n",
    "df_copy['obligations'] = obligations\n",
    "#df_copy.head()"
   ]
  },
  {
   "cell_type": "markdown",
   "metadata": {},
   "source": [
    "7. 'Legal Terms and Conditions'"
   ]
  },
  {
   "cell_type": "code",
   "execution_count": 24,
   "metadata": {},
   "outputs": [],
   "source": [
    "## 1: 'Custom', 2: 'Standard (MSA 2018v2)', 3: 'Standard (MSA 1Apr18)', 4: 'Standard (3Apr17)', \n",
    "## 5: 'Standard (15Nov16)', 6: 'Standard (pre-15Nov16)'\n",
    "\n",
    "tmp = df_copy['Legal Terms and Conditions']\n",
    "tmp = np.array(tmp)\n",
    "\n",
    "custom_list = ['Custom (amended Standard (15nov2016 - 31mar2017))', 'Custom']\n",
    "\n",
    "for i in range (tmp.size):\n",
    "    if tmp[i] in custom_list :\n",
    "        tmp[i] = '1'\n",
    "    elif tmp[i] == 'Standard (MSA 2018v2)':\n",
    "        tmp[i] = '2'\n",
    "    elif tmp[i] == 'Standard (MSA 01apr2018)': \n",
    "        tmp[i] = '3'\n",
    "    elif tmp[i] == 'Standard (03apr2017-31mar2018)':\n",
    "        tmp[i] = '4'\n",
    "    elif tmp[i] == 'Standard (15nov2016 - 31mar2017)':\n",
    "        tmp[i] = '5'\n",
    "    else: #tmp[i] == 'Standard (pre-15nov2016)':\n",
    "        tmp[i] = '6'\n",
    "        \n",
    "legal_terms = pd.DataFrame(tmp)\n",
    "df_copy['legal_terms'] = legal_terms\n",
    "#df_copy.head()    "
   ]
  },
  {
   "cell_type": "markdown",
   "metadata": {},
   "source": [
    "8. 'SLA' "
   ]
  },
  {
   "cell_type": "code",
   "execution_count": 25,
   "metadata": {},
   "outputs": [],
   "source": [
    "custom_list = ['Yes', 'Yes ', 'Yes (Custom)', 'Yes (custom)', 'Yes (unknown)', 'Yes (updated time to time)']\n",
    "std_2016_list = ['Yes (Standard SLA Nov2016)']\n",
    "std_2015_list = ['Yes (Standard SLA 2015)', 'Yes (standard SLA 2015)']\n",
    "## 1: 'No', 2: 'Custom', 3: 'Standard (Nov2016)', 4: 'Standard (2015)'\n",
    "\n",
    "tmp = df_copy['SLA']\n",
    "tmp = np.array(tmp)\n",
    "\n",
    "for i in range (tmp.size):\n",
    "    if tmp[i] == 'No':\n",
    "        tmp[i] = '1'\n",
    "    elif tmp[i] in custom_list:\n",
    "        tmp[i] = '2'\n",
    "    elif tmp[i] in std_2016_list:\n",
    "        tmp[i] = '3'\n",
    "    elif tmp[i] in std_2015_list: \n",
    "        tmp[i] = '4'\n",
    "    \n",
    "sla = pd.DataFrame(tmp)\n",
    "df_copy['sla'] = sla\n",
    "#df_copy.head()"
   ]
  },
  {
   "cell_type": "markdown",
   "metadata": {},
   "source": [
    "9. 'DPA'"
   ]
  },
  {
   "cell_type": "code",
   "execution_count": 26,
   "metadata": {},
   "outputs": [],
   "source": [
    "## Change yes to 1 and no to 0\n",
    "tmp = df_copy['DPA']\n",
    "tmp = np.array(tmp)\n",
    "\n",
    "for i in range (tmp.size):\n",
    "    if tmp[i] == 'Yes':\n",
    "        tmp[i] = '1'\n",
    "    else:\n",
    "        tmp[i] = '0'\n",
    "        \n",
    "dpa = pd.DataFrame(tmp)\n",
    "df_copy['dpa'] = dpa\n",
    "#df_copy.head()"
   ]
  },
  {
   "cell_type": "markdown",
   "metadata": {},
   "source": [
    "10. 'Privacy Policy Change Notice Requirement'"
   ]
  },
  {
   "cell_type": "code",
   "execution_count": 27,
   "metadata": {},
   "outputs": [
    {
     "name": "stderr",
     "output_type": "stream",
     "text": [
      "/anaconda3/lib/python3.7/site-packages/ipykernel_launcher.py:6: SettingWithCopyWarning: \n",
      "A value is trying to be set on a copy of a slice from a DataFrame\n",
      "\n",
      "See the caveats in the documentation: http://pandas.pydata.org/pandas-docs/stable/indexing.html#indexing-view-versus-copy\n",
      "  \n"
     ]
    }
   ],
   "source": [
    "## Convert blank to 'No' \n",
    "## 1: 'No', 2: 'Notice and Opportunity to Object', 3: 'Passive Notice'\n",
    "tmp = df_copy['Privacy Policy Change Notice Requirement']\n",
    "for i in range (len(tmp)):\n",
    "    if pd.isnull(tmp[i]) or tmp[i] == 'No':\n",
    "        tmp[i] = '1'\n",
    "        \n",
    "tmp = np.array(tmp)\n",
    "\n",
    "for i in range (tmp.size):\n",
    "    if tmp[i] == 'Affirmative Opt-in or Amendment' or tmp[i] == 'Provide Opportunity to Review and Object':\n",
    "        tmp[i] = '2'\n",
    "    elif tmp[i] == 'Publication of Privacy Policy': \n",
    "        tmp[i] = '3'\n",
    "        \n",
    "prvcy_change_note = pd.DataFrame(tmp)\n",
    "df_copy['prvcy_change_note'] = prvcy_change_note\n",
    "#df_copy.tail(20)"
   ]
  },
  {
   "cell_type": "markdown",
   "metadata": {},
   "source": [
    "11. 'Data or Security Breach Notice Requirement'"
   ]
  },
  {
   "cell_type": "code",
   "execution_count": 28,
   "metadata": {},
   "outputs": [],
   "source": [
    "w_24_list = ['24 Hours', 'Yes (12 hours)', 'Yes (24 hours)', 'Yes (ASAP)', 'Yes (Immediately)', 'Yes (immediate)',\n",
    "             'Yes (immediately)', 'Yes (within 24 hours of discovery)', 'Yes- immediate notice of CI loss']\n",
    "w_48_list = ['Yes', 'Yes ', 'Yes (2 business days)', 'Yes (48 hours)', 'Yes (Custom)', \n",
    "             'Yes (Within 48 hours of discovery)', 'Yes (custom)', 'Yes (undefined)', \n",
    "             'Yes (immediate, within 48 hours)']\n",
    "m_48_list = ['Yes (72 hours)', 'Yes (Without Undue Delay)', 'Yes (within 72 hours of discovery)']\n",
    "## 1: 'No', 2: 'Yes - within 24 hours of discovery', 3: 'Yes - between 24-48 hours after discovery',\n",
    "## 4: 'Yes - greater than 48 hours after discovery'\n",
    "\n",
    "tmp = df_copy['Data or Security Breach Notice Requirement']\n",
    "tmp = np.array(tmp)\n",
    "\n",
    "for i in range (tmp.size):\n",
    "    if tmp[i] in w_24_list:\n",
    "        tmp[i] = '2'\n",
    "    elif tmp[i] in w_48_list:\n",
    "        tmp[i] = '3'\n",
    "    elif tmp[i] in m_48_list:\n",
    "        tmp[i] = '4'\n",
    "    else: \n",
    "        tmp[i] = '1'\n",
    "          \n",
    "sec_breach_note = pd.DataFrame(tmp)\n",
    "df_copy['sec_breach_note'] = sec_breach_note\n",
    "#df_copy.tail(20)"
   ]
  },
  {
   "cell_type": "markdown",
   "metadata": {},
   "source": [
    "12. 'Change of Control provision'"
   ]
  },
  {
   "cell_type": "code",
   "execution_count": 29,
   "metadata": {},
   "outputs": [],
   "source": [
    "## Change yes to 1 and no to 0\n",
    "tmp = df_copy['Change of Control provision']\n",
    "tmp = np.array(tmp)\n",
    "\n",
    "for i in range (tmp.size):\n",
    "    if tmp[i] == 'Yes':\n",
    "        tmp[i] = '1'\n",
    "    else:\n",
    "        tmp[i] = '0'\n",
    "        \n",
    "tmp = tmp.T\n",
    "cntrl_prvsn = pd.DataFrame(tmp)\n",
    "df_copy['cntrl_prvsn'] = cntrl_prvsn\n",
    "#df_copy.head()"
   ]
  },
  {
   "cell_type": "markdown",
   "metadata": {},
   "source": [
    "13. 'Governing Law'"
   ]
  },
  {
   "cell_type": "code",
   "execution_count": 30,
   "metadata": {},
   "outputs": [],
   "source": [
    "tmp = df_copy['Governing Law']\n",
    "tmp = np.array(tmp)\n",
    "\n",
    "CA_list = ['California', 'California ']\n",
    "USA_rest_list = ['Florida', 'Georgia',  'Indiana', 'Nevada', 'New Jersey',  'Pennsylvania', 'Wisconsin', 'None']\n",
    "Germany_list = ['Germany', 'German']\n",
    "EU_rest_list = ['England', 'England & Wales', 'England and Wales', 'England/Wales', 'English', 'UK', 'Dutch',\n",
    "                'Switzerland' ]\n",
    "## Ideal grouping creteria:\n",
    "## 1: New York,  2: Delaware, 3: California, 4: Illinois, 5: Texas, 6: Belgium, 7: Ireland, 8: France, 9: Germany, \n",
    "## 10: rest of the states in the USA, 11: rest of the countries in the EU\n",
    "## Since there are only 2 records of Germany, I will change it into group 11 unless we have more data  \n",
    "\n",
    "for i in range (tmp.size):\n",
    "    if tmp[i] == 'New York':\n",
    "        tmp[i] = '1'\n",
    "    elif tmp[i] == 'Delaware':\n",
    "        tmp[i] = '2'\n",
    "    elif tmp[i] in CA_list:\n",
    "        tmp[i] = '3'\n",
    "    elif tmp[i] == 'Illinois':\n",
    "        tmp[i] = '4'\n",
    "    elif tmp[i] == 'Texas':\n",
    "        tmp[i] = '5'\n",
    "    elif tmp[i] == 'Belgium':\n",
    "        tmp[i] = '6'\n",
    "    elif tmp[i] == 'Ireland':\n",
    "        tmp[i] = '7'\n",
    "    elif tmp[i] == 'France':\n",
    "        tmp[i] = '8'\n",
    "    #elif tmp[i] in Germany_list:\n",
    "        #tmp[i] = '9'\n",
    "    elif tmp[i] in USA_rest_list:\n",
    "        tmp[i] = '10'  \n",
    "    elif tmp[i] in EU_rest_list or tmp[i] in Germany_list:\n",
    "        tmp[i] = '11'\n",
    "                \n",
    "govn_law = pd.DataFrame(tmp)\n",
    "df_copy['govn_law'] = govn_law\n",
    "#df_copy.tail(20)   "
   ]
  },
  {
   "cell_type": "markdown",
   "metadata": {},
   "source": [
    "14. 'Notable Non-Standard Terms'"
   ]
  },
  {
   "cell_type": "code",
   "execution_count": 31,
   "metadata": {},
   "outputs": [
    {
     "name": "stderr",
     "output_type": "stream",
     "text": [
      "/anaconda3/lib/python3.7/site-packages/ipykernel_launcher.py:7: SettingWithCopyWarning: \n",
      "A value is trying to be set on a copy of a slice from a DataFrame\n",
      "\n",
      "See the caveats in the documentation: http://pandas.pydata.org/pandas-docs/stable/indexing.html#indexing-view-versus-copy\n",
      "  import sys\n"
     ]
    }
   ],
   "source": [
    "## 'Not an actual customer' treat as blank\n",
    "## Change yes or any content to 1 and no or blank to 0\n",
    "tmp = df_copy['Notable Non-Standard Terms']\n",
    "\n",
    "for i in range (len(tmp)):\n",
    "    if pd.isnull(tmp[i]) or tmp[i] == 'Not an actual customer' or tmp[i] == 'No':\n",
    "        tmp[i] = '0'\n",
    "\n",
    "tmp = np.array(tmp)\n",
    "#print(tmp)\n",
    "\n",
    "for i in range (tmp.size):\n",
    "    if tmp[i] != '0':\n",
    "        tmp[i] = '1'\n",
    "        \n",
    "non_std_terms = pd.DataFrame(tmp)\n",
    "#df_copy.head(20)"
   ]
  },
  {
   "cell_type": "markdown",
   "metadata": {},
   "source": [
    "15. 'Outrageous Terms'"
   ]
  },
  {
   "cell_type": "code",
   "execution_count": 32,
   "metadata": {},
   "outputs": [
    {
     "name": "stderr",
     "output_type": "stream",
     "text": [
      "/anaconda3/lib/python3.7/site-packages/ipykernel_launcher.py:6: SettingWithCopyWarning: \n",
      "A value is trying to be set on a copy of a slice from a DataFrame\n",
      "\n",
      "See the caveats in the documentation: http://pandas.pydata.org/pandas-docs/stable/indexing.html#indexing-view-versus-copy\n",
      "  \n"
     ]
    }
   ],
   "source": [
    "## Change yes or any content to 1 and no or blank to 0\n",
    "tmp = df_copy['Outrageous Terms']\n",
    "\n",
    "for i in range (len(tmp)):\n",
    "    if pd.isnull(tmp[i]) or tmp[i] == 'No':\n",
    "        tmp[i] = '0'\n",
    "\n",
    "tmp = np.array(tmp)\n",
    "#print(tmp)\n",
    "\n",
    "for i in range (tmp.size):\n",
    "    if tmp[i] != '0':\n",
    "        tmp[i] = '1'\n",
    "        \n",
    "outrageous = pd.DataFrame(tmp)\n",
    "#df_copy.head(20)"
   ]
  },
  {
   "cell_type": "code",
   "execution_count": 33,
   "metadata": {},
   "outputs": [],
   "source": [
    "## Combine 'Notable Non-Standard Terms' and 'Outrageous Terms'\n",
    "non_std_outrageous = np.array(pd.concat([non_std_terms, outrageous], axis=1)).astype(int)\n",
    "\n",
    "s = [non_std_outrageous[i][0] for i in range (len(non_std_outrageous))]\n",
    "n = 0\n",
    "\n",
    "for i in range (len(s)):\n",
    "    for j in range (2):\n",
    "        n += non_std_outrageous[i][j]\n",
    "    s[i] = n\n",
    "    n = 0    "
   ]
  },
  {
   "cell_type": "code",
   "execution_count": 34,
   "metadata": {},
   "outputs": [],
   "source": [
    "combined_terms = s.copy()\n",
    "for i in range (len(combined_terms)):\n",
    "    if combined_terms[i] == 0:\n",
    "        combined_terms[i] = '0'\n",
    "    else: combined_terms[i] = '1'"
   ]
  },
  {
   "cell_type": "code",
   "execution_count": 36,
   "metadata": {},
   "outputs": [],
   "source": [
    "df_copy['non_std_outrageous'] = combined_terms"
   ]
  },
  {
   "cell_type": "markdown",
   "metadata": {},
   "source": [
    "16. 'Account Status'"
   ]
  },
  {
   "cell_type": "code",
   "execution_count": 37,
   "metadata": {},
   "outputs": [],
   "source": [
    "## Change status from string to numeric representation \n",
    "## 1 = Churned/Locked, 0 = Active\n",
    "\n",
    "tmp = df_copy['Account Status']\n",
    "tmp = np.array(tmp)\n",
    "\n",
    "active_list = ['Active Customer - Coach', 'Active Customer - Content', 'Active Customer - Platform']\n",
    "churn_list = ['Active Customer - Churned', 'Active Customer - locked', 'Churned Customer']\n",
    "\n",
    "for i in range (len(tmp)):\n",
    "    if tmp[i] in churn_list:\n",
    "        tmp[i] = '1'\n",
    "    else: \n",
    "        tmp[i] = '0'\n",
    "           \n",
    "status = pd.DataFrame(tmp).astype(int)\n",
    "df_copy['status'] = status\n",
    "#df_copy.head()  "
   ]
  },
  {
   "cell_type": "markdown",
   "metadata": {},
   "source": [
    "17. 'Expected Renewal ARR * Currency' & 'Expected Renewal ARR *'"
   ]
  },
  {
   "cell_type": "code",
   "execution_count": 38,
   "metadata": {},
   "outputs": [],
   "source": [
    "## Convert GBP and USD to EUR\n",
    "## 6/28 curency rate\n",
    "## 1 USD = 0.88 EUR\n",
    "## 1 GBP = 1.12 EUR\n",
    "tmp = df_copy[['Expected Renewal ARR * Currency', 'Expected Renewal ARR *']]\n",
    "tmp = np.array(tmp)\n",
    "\n",
    "for i in range (len(tmp)):\n",
    "    if tmp[i][0] == 'GBP':\n",
    "        tmp[i][0] = 'EUR'\n",
    "        tmp[i][1] = tmp[i][1] * 1.12\n",
    "    elif tmp[i][0] == 'USD':\n",
    "        tmp[i][0] = 'EUR'\n",
    "        tmp[i][1] = tmp[i][1] * 0.88\n",
    "           \n",
    "renewal_ARR = pd.DataFrame(tmp)\n",
    "renewal_ARR = renewal_ARR[1]\n",
    "renewal_ARR = renewal_ARR.apply(lambda x: int(x))\n",
    "\n",
    "df_copy['renewal_ARR'] = renewal_ARR"
   ]
  },
  {
   "cell_type": "markdown",
   "metadata": {},
   "source": [
    "18. 'Package'"
   ]
  },
  {
   "cell_type": "code",
   "execution_count": 39,
   "metadata": {},
   "outputs": [],
   "source": [
    "tmp = df_copy['Package']\n",
    "tmp = np.array(tmp)\n",
    "## 1: Enterprise, 2: Essential, 3: Plus, 4: Professional, 5: Ultimate\n",
    "\n",
    "for i in range (len(tmp)):\n",
    "    if tmp[i] == 'Enterprise':\n",
    "        tmp[i] = '1'\n",
    "    elif tmp[i] == 'Essential':\n",
    "        tmp[i] = '2'\n",
    "    elif tmp[i] == 'Plus':\n",
    "        tmp[i] = '3'\n",
    "    elif tmp[i] == 'Professional':\n",
    "        tmp[i] = '4'\n",
    "    else: tmp[i] = '5'\n",
    "\n",
    "package = pd.DataFrame(tmp)\n",
    "df_copy['package'] = package"
   ]
  },
  {
   "cell_type": "markdown",
   "metadata": {},
   "source": [
    "19. 'Assigned users'"
   ]
  },
  {
   "cell_type": "code",
   "execution_count": 40,
   "metadata": {},
   "outputs": [],
   "source": [
    "tmp = df_copy['Assigned users']\n",
    "assigned_user = tmp.apply(lambda x: int(x))\n",
    "\n",
    "df_copy['assigned_user'] = assigned_user"
   ]
  },
  {
   "cell_type": "markdown",
   "metadata": {},
   "source": [
    "20.'Segment'"
   ]
  },
  {
   "cell_type": "code",
   "execution_count": 41,
   "metadata": {},
   "outputs": [],
   "source": [
    "## Change ENT to 1 and MM to 0\n",
    "tmp = df_copy['Segment']\n",
    "tmp = np.array(tmp)\n",
    "\n",
    "for i in range (tmp.size):\n",
    "    if tmp[i] == 'ENT':\n",
    "        tmp[i] = '1'\n",
    "    else:\n",
    "        tmp[i] = '0'\n",
    "        \n",
    "segment = pd.DataFrame(tmp)\n",
    "df_copy['segment'] = segment\n",
    "#df_copy.head()"
   ]
  },
  {
   "cell_type": "markdown",
   "metadata": {},
   "source": [
    "21. 'Employees'"
   ]
  },
  {
   "cell_type": "code",
   "execution_count": 42,
   "metadata": {},
   "outputs": [],
   "source": [
    "## Fill in missing value with median instaed of mean \n",
    "## because the range of this varibale is so large \n",
    "## mean is obviously skewed by large values/max\n",
    "tmp = np.array([df_copy['Employees']])\n",
    "tmp = tmp.T\n",
    "\n",
    "imp_freq = SimpleImputer(missing_values=np.nan, strategy='most_frequent')\n",
    "emp = imp_freq.fit_transform(tmp)\n",
    "#print(emp)\n",
    "\n",
    "employees_trans = pd.DataFrame(emp)\n",
    "\n",
    "df_copy['employees_trans'] = employees_trans"
   ]
  },
  {
   "cell_type": "markdown",
   "metadata": {},
   "source": [
    "- <b>Create dataframe for binned variables</b>"
   ]
  },
  {
   "cell_type": "code",
   "execution_count": 43,
   "metadata": {},
   "outputs": [
    {
     "data": {
      "text/plain": [
       "Index(['Customer Name', 'Account Status', 'Okay for Speech API Rollout?',\n",
       "       'Initial Term Start Date', 'Initial Term Length', 'Auto-renewal',\n",
       "       'Termination Rights', 'Marketing', 'Non-Solicit Obligations',\n",
       "       'Legal Terms and Conditions', 'SLA', 'DPA',\n",
       "       'Privacy Policy Change Notice Requirement',\n",
       "       'Data or Security Breach Notice Requirement',\n",
       "       'Change of Control provision', 'Governing Law',\n",
       "       'Notable Non-Standard Terms', 'Outrageous Terms',\n",
       "       'Expected Renewal ARR * Currency', 'Expected Renewal ARR *', 'Package',\n",
       "       'N° of Licenses', 'Used Licenses', 'Assigned users', 'Segment',\n",
       "       'Employees', 'start_date', 'end_date', 'duration', 'speech_api_rollout',\n",
       "       'term_length', 'auto_renewal', 'termination_rights', 'marketing',\n",
       "       'obligations', 'legal_terms', 'sla', 'dpa', 'prvcy_change_note',\n",
       "       'sec_breach_note', 'cntrl_prvsn', 'govn_law', 'non_std_outrageous',\n",
       "       'status', 'renewal_ARR', 'package', 'assigned_user', 'segment',\n",
       "       'employees_trans'],\n",
       "      dtype='object')"
      ]
     },
     "execution_count": 43,
     "metadata": {},
     "output_type": "execute_result"
    }
   ],
   "source": [
    "df_copy.columns"
   ]
  },
  {
   "cell_type": "code",
   "execution_count": 44,
   "metadata": {},
   "outputs": [],
   "source": [
    "## Select transformed variables(binned) into a new dataframe\n",
    "bin_df = df_copy[['speech_api_rollout', 'duration', 'term_length', 'auto_renewal', 'termination_rights', 'marketing',\n",
    "                  'obligations', 'legal_terms', 'sla', 'dpa', 'prvcy_change_note', 'sec_breach_note', 'cntrl_prvsn',\n",
    "                  'govn_law', 'non_std_outrageous', 'status', 'renewal_ARR', 'package',\n",
    "                  'N° of Licenses', 'Used Licenses', 'assigned_user', 'segment', 'employees_trans']]\n",
    "#bin_df\n",
    "# 1079 rows × 24 columns"
   ]
  },
  {
   "cell_type": "markdown",
   "metadata": {},
   "source": [
    "- <b>Seperate dependent and indepednet variables</b>"
   ]
  },
  {
   "cell_type": "code",
   "execution_count": 45,
   "metadata": {},
   "outputs": [
    {
     "name": "stdout",
     "output_type": "stream",
     "text": [
      "x shape is:  (1036, 22) y shape is:  (1036,)\n"
     ]
    }
   ],
   "source": [
    "x = bin_df.drop('status',axis = 1)\n",
    "y = bin_df['status']\n",
    "print( 'x shape is: ', x.shape, 'y shape is: ', y.shape)"
   ]
  },
  {
   "cell_type": "markdown",
   "metadata": {},
   "source": [
    "- <b>Create train and test set split at 80/20</b>"
   ]
  },
  {
   "cell_type": "code",
   "execution_count": 131,
   "metadata": {},
   "outputs": [
    {
     "name": "stdout",
     "output_type": "stream",
     "text": [
      "x_train shape is:  (694, 22) y_train shape is:  (694,)\n",
      "x_test shape is:  (342, 22) y_test shape is:  (342,)\n"
     ]
    }
   ],
   "source": [
    "from sklearn.model_selection import train_test_split\n",
    "x_train, x_test, y_train, y_test = train_test_split(x, y, test_size=0.33, random_state=11)\n",
    "\n",
    "print('x_train shape is: ', x_train.shape, 'y_train shape is: ', y_train.shape)\n",
    "print('x_test shape is: ', x_test.shape, 'y_test shape is: ', y_test.shape)"
   ]
  },
  {
   "cell_type": "markdown",
   "metadata": {},
   "source": [
    "- <b>Use decision tree for first time variable screening</b>"
   ]
  },
  {
   "cell_type": "code",
   "execution_count": 132,
   "metadata": {},
   "outputs": [],
   "source": [
    "from sklearn import tree, naive_bayes\n",
    "from sklearn.metrics import classification_report\n",
    "from sklearn.metrics import confusion_matrix\n",
    "\n",
    "treeclf = tree.DecisionTreeClassifier()\n",
    "treeclf = treeclf.fit(x_train, y_train)\n",
    "\n",
    "#print (treeclf.score(x_train, y_train))\n",
    "#print (treeclf.score(x_test, y_test))\n",
    "#print (treeclf.feature_importances_)"
   ]
  },
  {
   "cell_type": "markdown",
   "metadata": {},
   "source": [
    "```\n",
    "[0.         0.19700966 0.         0.01064737 0.00417484 0.\n",
    " 0.00488562 0.01361773 0.01431099 0.         0.00446889 0.\n",
    " 0.         0.02445029 0.007693   0.29901837 0.03741115 0.06871739\n",
    " 0.10201073 0.06390945 0.00808897 0.13958554]\n",
    " ```\n",
    "From the above decision tree feature importance table, we can be sure that only 16 out of 22 variables are significant, which are:\n",
    "<b>\n",
    "1. duration\n",
    "2. auto_renewal \n",
    "3. termination_rights\n",
    "4. obligations\n",
    "5. legal_terms\n",
    "6. sla\n",
    "7. prvcy_change_note\n",
    "8. govn_law \n",
    "9. non_std_outrageous \n",
    "10. renewal_ARR\n",
    "11. package\n",
    "12. N° of Licenses\n",
    "13. Used Licenses\n",
    "14. assigned_user \n",
    "15. segment \n",
    "16. employees_trans \n",
    "    \n",
    "Discuss with legal team and agree to remove govn_law from independent variable list.\n",
    "</b>"
   ]
  },
  {
   "cell_type": "markdown",
   "metadata": {},
   "source": [
    "- <b> Normalize numeric variables</b>"
   ]
  },
  {
   "cell_type": "code",
   "execution_count": 133,
   "metadata": {},
   "outputs": [
    {
     "name": "stderr",
     "output_type": "stream",
     "text": [
      "/anaconda3/lib/python3.7/site-packages/sklearn/preprocessing/data.py:334: DataConversionWarning: Data with input dtype int64, float64 were all converted to float64 by MinMaxScaler.\n",
      "  return self.partial_fit(X, y)\n",
      "/anaconda3/lib/python3.7/site-packages/sklearn/preprocessing/data.py:334: DataConversionWarning: Data with input dtype int64, float64 were all converted to float64 by MinMaxScaler.\n",
      "  return self.partial_fit(X, y)\n"
     ]
    }
   ],
   "source": [
    "min_max_scaler = preprocessing.MinMaxScaler()\n",
    "x_train_norm = min_max_scaler.fit_transform(x_train[['duration','renewal_ARR','N° of Licenses', 'Used Licenses',\n",
    "                                              'assigned_user', 'employees_trans']])\n",
    "x_test_norm = min_max_scaler.fit_transform(x_test[['duration','renewal_ARR','N° of Licenses', 'Used Licenses',\n",
    "                                              'assigned_user', 'employees_trans']])"
   ]
  },
  {
   "cell_type": "code",
   "execution_count": 134,
   "metadata": {},
   "outputs": [],
   "source": [
    "new_x_train = pd.DataFrame(x_train_norm, columns = ['duration','renewal_ARR','N° of Licenses', 'Used Licenses',\n",
    "                                                    'assigned_user', 'employees_trans'])\n",
    "new_x_test = pd.DataFrame(x_test_norm, columns = ['duration','renewal_ARR','N° of Licenses', 'Used Licenses',\n",
    "                                                    'assigned_user', 'employees_trans'])"
   ]
  },
  {
   "cell_type": "markdown",
   "metadata": {},
   "source": [
    "- <b>Create dummy variables</b>"
   ]
  },
  {
   "cell_type": "code",
   "execution_count": 135,
   "metadata": {},
   "outputs": [],
   "source": [
    "x_train_dummy = pd.get_dummies(x_train[['auto_renewal', 'termination_rights', 'obligations', 'legal_terms', 'sla',\n",
    "                                        'prvcy_change_note', 'non_std_outrageous', 'package', 'segment']]).reset_index(drop=True)\n",
    "x_test_dummy = pd.get_dummies(x_test[['auto_renewal', 'termination_rights', 'obligations', 'legal_terms', 'sla',\n",
    "                                        'prvcy_change_note', 'non_std_outrageous', 'package', 'segment']]).reset_index(drop=True)"
   ]
  },
  {
   "cell_type": "markdown",
   "metadata": {},
   "source": [
    "- <b> Combine two dataframes into one for modeling </b>"
   ]
  },
  {
   "cell_type": "code",
   "execution_count": 136,
   "metadata": {},
   "outputs": [],
   "source": [
    "x_train_frame = pd.concat([x_train_dummy, new_x_train], axis=1)\n",
    "x_test_frame = pd.concat([x_test_dummy, new_x_test], axis=1)"
   ]
  },
  {
   "cell_type": "code",
   "execution_count": 139,
   "metadata": {},
   "outputs": [],
   "source": [
    "X_train = np.array(x_train_frame)\n",
    "X_test = np.array(x_test_frame)\n",
    "\n",
    "Y_train = np.array(y_train)\n",
    "Y_test = np.array(y_test)"
   ]
  },
  {
   "cell_type": "code",
   "execution_count": 140,
   "metadata": {
    "scrolled": true
   },
   "outputs": [
    {
     "name": "stdout",
     "output_type": "stream",
     "text": [
      "After transformation and feature selection, x_train shape is: (694, 36)\n",
      "After transformation and feature selection, x_test shape is: (342, 36)\n",
      "After transformation and feature selection, y_train shape is: (694,)\n",
      "After transformation and feature selection, y_test shape is: (342,)\n"
     ]
    }
   ],
   "source": [
    "print('After transformation and feature selection, x_train shape is:', X_train.shape)\n",
    "print('After transformation and feature selection, x_test shape is:', X_test.shape)\n",
    "print('After transformation and feature selection, y_train shape is:', Y_train.shape)\n",
    "print('After transformation and feature selection, y_test shape is:', Y_test.shape)"
   ]
  },
  {
   "cell_type": "markdown",
   "metadata": {},
   "source": [
    "## Modeling"
   ]
  },
  {
   "cell_type": "markdown",
   "metadata": {},
   "source": [
    "- <b>Model 1 using default settings</b>"
   ]
  },
  {
   "cell_type": "code",
   "execution_count": 141,
   "metadata": {},
   "outputs": [],
   "source": [
    "from sklearn.linear_model import LogisticRegression\n",
    "logisticRegr1 = LogisticRegression(solver='lbfgs')\n",
    "\n",
    "m1 = logisticRegr1.fit(X_train, Y_train)\n",
    "predictions_logRegr1 = logisticRegr1.predict(X_test)"
   ]
  },
  {
   "cell_type": "code",
   "execution_count": 142,
   "metadata": {},
   "outputs": [
    {
     "name": "stdout",
     "output_type": "stream",
     "text": [
      "Accuracy is 0.7310\n"
     ]
    }
   ],
   "source": [
    "# Use score method to get accuracy of model\n",
    "score1 = logisticRegr1.score(X_test, Y_test)\n",
    "print('Accuracy is %.4f'% score1)"
   ]
  },
  {
   "cell_type": "markdown",
   "metadata": {},
   "source": [
    "This method is using L2 penalty (aka Ridge by adding “squared magnitude” of coefficient as penalty term to the loss function)."
   ]
  },
  {
   "cell_type": "code",
   "execution_count": 143,
   "metadata": {},
   "outputs": [
    {
     "name": "stdout",
     "output_type": "stream",
     "text": [
      "[[ 13  77]\n",
      " [ 15 237]]\n"
     ]
    }
   ],
   "source": [
    "from sklearn import metrics\n",
    "cm1 = metrics.confusion_matrix(Y_test, predictions_logRegr1, labels=[1,0])\n",
    "print(cm1)"
   ]
  },
  {
   "cell_type": "code",
   "execution_count": 144,
   "metadata": {},
   "outputs": [
    {
     "name": "stdout",
     "output_type": "stream",
     "text": [
      "              precision    recall  f1-score   support\n",
      "\n",
      "           0       0.75      0.94      0.84       252\n",
      "           1       0.46      0.14      0.22        90\n",
      "\n",
      "   micro avg       0.73      0.73      0.73       342\n",
      "   macro avg       0.61      0.54      0.53       342\n",
      "weighted avg       0.68      0.73      0.68       342\n",
      "\n"
     ]
    }
   ],
   "source": [
    "print(classification_report(Y_test, predictions_logRegr1))"
   ]
  },
  {
   "cell_type": "markdown",
   "metadata": {},
   "source": [
    "- <b>Model 2 using L1 penalty</b>"
   ]
  },
  {
   "cell_type": "code",
   "execution_count": 145,
   "metadata": {},
   "outputs": [
    {
     "name": "stdout",
     "output_type": "stream",
     "text": [
      "Accuracy is 0.7398\n",
      "[[ 12  78]\n",
      " [ 11 241]]\n",
      "              precision    recall  f1-score   support\n",
      "\n",
      "           0       0.76      0.96      0.84       252\n",
      "           1       0.52      0.13      0.21        90\n",
      "\n",
      "   micro avg       0.74      0.74      0.74       342\n",
      "   macro avg       0.64      0.54      0.53       342\n",
      "weighted avg       0.69      0.74      0.68       342\n",
      "\n"
     ]
    }
   ],
   "source": [
    "logisticRegr2 = LogisticRegression(penalty='l1', solver='saga')\n",
    "\n",
    "m2 = logisticRegr2.fit(X_train, Y_train)\n",
    "predictions_logRegr2 = logisticRegr2.predict(X_test)\n",
    "\n",
    "score2 = logisticRegr2.score(X_test, Y_test)\n",
    "print('Accuracy is %.4f'% score2)\n",
    "\n",
    "cm2 = metrics.confusion_matrix(Y_test, predictions_logRegr2, labels=[1,0])\n",
    "print(cm2)\n",
    "\n",
    "print(classification_report(Y_test, predictions_logRegr2))"
   ]
  },
  {
   "cell_type": "markdown",
   "metadata": {},
   "source": [
    "This method is using L1 penalty (aka LASSO by adding “absolute value of magnitude” of coefficient as penalty term to the loss function)."
   ]
  },
  {
   "cell_type": "markdown",
   "metadata": {},
   "source": [
    "- <b>Model 3 using decsion tree 'entropy' as measurement</b>"
   ]
  },
  {
   "cell_type": "code",
   "execution_count": 146,
   "metadata": {},
   "outputs": [
    {
     "name": "stdout",
     "output_type": "stream",
     "text": [
      "Accuracy is 0.5673\n",
      "[[ 58  32]\n",
      " [116 136]]\n",
      "              precision    recall  f1-score   support\n",
      "\n",
      "           0       0.81      0.54      0.65       252\n",
      "           1       0.33      0.64      0.44        90\n",
      "\n",
      "   micro avg       0.57      0.57      0.57       342\n",
      "   macro avg       0.57      0.59      0.54       342\n",
      "weighted avg       0.68      0.57      0.59       342\n",
      "\n"
     ]
    }
   ],
   "source": [
    "treeclf1 = tree.DecisionTreeClassifier(criterion='entropy', min_samples_split=3)\n",
    "treeclf1 = treeclf.fit(X_train, Y_train)\n",
    "\n",
    "predictions_tree1 = treeclf1.predict(X_test)\n",
    "\n",
    "score3 = treeclf1.score(X_test, Y_test)\n",
    "print('Accuracy is %.4f'% score3)\n",
    "\n",
    "cm3 = confusion_matrix(Y_test, predictions_tree1, labels=[1,0])\n",
    "print (cm3)\n",
    "\n",
    "print(classification_report(Y_test, predictions_tree1))"
   ]
  },
  {
   "cell_type": "markdown",
   "metadata": {},
   "source": [
    "This method is using 'entropy' as measurement. "
   ]
  },
  {
   "cell_type": "markdown",
   "metadata": {},
   "source": [
    "- <b>Model 4 using decsion tree 'gini' as measurement</b>"
   ]
  },
  {
   "cell_type": "code",
   "execution_count": 147,
   "metadata": {},
   "outputs": [
    {
     "name": "stdout",
     "output_type": "stream",
     "text": [
      "Accuracy is 0.6023\n",
      "[[ 56  34]\n",
      " [102 150]]\n",
      "              precision    recall  f1-score   support\n",
      "\n",
      "           0       0.82      0.60      0.69       252\n",
      "           1       0.35      0.62      0.45        90\n",
      "\n",
      "   micro avg       0.60      0.60      0.60       342\n",
      "   macro avg       0.58      0.61      0.57       342\n",
      "weighted avg       0.69      0.60      0.63       342\n",
      "\n"
     ]
    }
   ],
   "source": [
    "treeclf2 = tree.DecisionTreeClassifier(criterion='gini', min_samples_split=3)\n",
    "treeclf2 = treeclf.fit(X_train, Y_train)\n",
    "\n",
    "predictions_tree2 = treeclf2.predict(X_test)\n",
    "\n",
    "score4 = treeclf2.score(X_test, Y_test)\n",
    "print('Accuracy is %.4f'% score4)\n",
    "\n",
    "cm4 = confusion_matrix(Y_test, predictions_tree2, labels=[1,0])\n",
    "print (cm4)\n",
    "\n",
    "print(classification_report(Y_test, predictions_tree2))"
   ]
  },
  {
   "cell_type": "markdown",
   "metadata": {},
   "source": [
    "<b>Comparing the results from models, logistic regression with L1 penalty has the best performace(accuracy). So we will choose this model for final score computation."
   ]
  },
  {
   "cell_type": "code",
   "execution_count": 148,
   "metadata": {},
   "outputs": [
    {
     "data": {
      "text/plain": [
       "Text(0.5, 257.44, 'Predicted label')"
      ]
     },
     "execution_count": 148,
     "metadata": {},
     "output_type": "execute_result"
    },
    {
     "data": {
      "image/png": "[encoded data removed]",
      "text/plain": [
       "<Figure size 432x288 with 2 Axes>"
      ]
     },
     "metadata": {
      "needs_background": "light"
     },
     "output_type": "display_data"
    }
   ],
   "source": [
    "import matplotlib.pyplot as plt\n",
    "import seaborn as sns\n",
    "%matplotlib inline\n",
    "\n",
    "class_names=[0,1] # name  of classes\n",
    "fig, ax = plt.subplots()\n",
    "tick_marks = np.arange(len(class_names))\n",
    "plt.xticks(tick_marks, class_names)\n",
    "plt.yticks(tick_marks, class_names)\n",
    "# create heatmap\n",
    "sns.heatmap(pd.DataFrame(cm2), annot=True, cmap=\"YlGnBu\" ,fmt='g')\n",
    "ax.xaxis.set_label_position(\"top\")\n",
    "plt.tight_layout()\n",
    "plt.title('Confusion matrix', y=1.1)\n",
    "plt.ylabel('Actual label')\n",
    "plt.xlabel('Predicted label')"
   ]
  },
  {
   "cell_type": "code",
   "execution_count": 149,
   "metadata": {},
   "outputs": [
    {
     "data": {
      "image/png": "[encoded data removed]",
      "text/plain": [
       "<Figure size 432x288 with 1 Axes>"
      ]
     },
     "metadata": {
      "needs_background": "light"
     },
     "output_type": "display_data"
    }
   ],
   "source": [
    "y_pred_proba = logisticRegr2.predict_proba(X_test)[::,1]\n",
    "fpr, tpr, _ = metrics.roc_curve(Y_test,  y_pred_proba)\n",
    "auc = metrics.roc_auc_score(y_test, y_pred_proba)\n",
    "plt.plot(fpr,tpr,label=\"data 1, auc=\"+str(auc))\n",
    "plt.legend(loc=4)\n",
    "plt.show()"
   ]
  },
  {
   "cell_type": "markdown",
   "metadata": {},
   "source": [
    "AUC score for the case is 0.61. AUC score 1 represents perfect classifier, and 0.5 represents a worthless classifier."
   ]
  },
  {
   "cell_type": "code",
   "execution_count": 150,
   "metadata": {},
   "outputs": [
    {
     "name": "stdout",
     "output_type": "stream",
     "text": [
      "[[ 0.00000000e+00  7.55138615e-01  0.00000000e+00  0.00000000e+00\n",
      "   0.00000000e+00  0.00000000e+00  0.00000000e+00  0.00000000e+00\n",
      "   0.00000000e+00  0.00000000e+00 -4.02405281e-01 -4.14050363e-01\n",
      "   1.03924123e+00  0.00000000e+00  3.51741017e-01  0.00000000e+00\n",
      "   0.00000000e+00  0.00000000e+00  2.22757899e-01  0.00000000e+00\n",
      "   0.00000000e+00  0.00000000e+00  0.00000000e+00  3.73001838e-01\n",
      "   0.00000000e+00 -6.44071438e-03  4.70317338e-01 -1.06135595e+00\n",
      "  -2.38488594e-01  8.65017854e-04  0.00000000e+00 -6.23430728e+00\n",
      "   0.00000000e+00  0.00000000e+00  0.00000000e+00  5.21937655e-01]]\n",
      "[-0.93978167]\n"
     ]
    }
   ],
   "source": [
    "print(logisticRegr2.coef_)\n",
    "print(logisticRegr2.intercept_)"
   ]
  },
  {
   "cell_type": "code",
   "execution_count": 151,
   "metadata": {},
   "outputs": [],
   "source": [
    "## Probalility of getting 1 i.e churn\n",
    "prob_test_1 = logisticRegr2.predict_proba(X_test)[:,1]\n",
    "#prob_test_1"
   ]
  },
  {
   "cell_type": "code",
   "execution_count": 152,
   "metadata": {},
   "outputs": [
    {
     "data": {
      "text/plain": [
       "Index(['auto_renewal_1', 'auto_renewal_2', 'auto_renewal_3', 'auto_renewal_4',\n",
       "       'termination_rights_1', 'termination_rights_2', 'termination_rights_3',\n",
       "       'obligations_0', 'obligations_1', 'legal_terms_1', 'legal_terms_3',\n",
       "       'legal_terms_4', 'legal_terms_5', 'legal_terms_6', 'sla_1', 'sla_2',\n",
       "       'sla_3', 'sla_4', 'prvcy_change_note_1', 'prvcy_change_note_2',\n",
       "       'prvcy_change_note_3', 'non_std_outrageous_0', 'non_std_outrageous_1',\n",
       "       'package_1', 'package_2', 'package_3', 'package_4', 'package_5',\n",
       "       'segment_0', 'segment_1', 'duration', 'renewal_ARR', 'N° of Licenses',\n",
       "       'Used Licenses', 'assigned_user', 'employees_trans'],\n",
       "      dtype='object')"
      ]
     },
     "execution_count": 152,
     "metadata": {},
     "output_type": "execute_result"
    }
   ],
   "source": [
    "x_train_frame.columns"
   ]
  },
  {
   "cell_type": "code",
   "execution_count": 153,
   "metadata": {},
   "outputs": [],
   "source": [
    "prob_train_1 = logisticRegr2.predict_proba(X_train)[:,1]\n",
    "#prob_train_1"
   ]
  },
  {
   "cell_type": "markdown",
   "metadata": {},
   "source": [
    "## Validation"
   ]
  },
  {
   "cell_type": "code",
   "execution_count": 154,
   "metadata": {},
   "outputs": [
    {
     "name": "stderr",
     "output_type": "stream",
     "text": [
      "/anaconda3/lib/python3.7/site-packages/sklearn/linear_model/sag.py:334: ConvergenceWarning: The max_iter was reached which means the coef_ did not converge\n",
      "  \"the coef_ did not converge\", ConvergenceWarning)\n",
      "/anaconda3/lib/python3.7/site-packages/sklearn/linear_model/sag.py:334: ConvergenceWarning: The max_iter was reached which means the coef_ did not converge\n",
      "  \"the coef_ did not converge\", ConvergenceWarning)\n",
      "/anaconda3/lib/python3.7/site-packages/sklearn/linear_model/sag.py:334: ConvergenceWarning: The max_iter was reached which means the coef_ did not converge\n",
      "  \"the coef_ did not converge\", ConvergenceWarning)\n",
      "/anaconda3/lib/python3.7/site-packages/sklearn/linear_model/sag.py:334: ConvergenceWarning: The max_iter was reached which means the coef_ did not converge\n",
      "  \"the coef_ did not converge\", ConvergenceWarning)\n",
      "/anaconda3/lib/python3.7/site-packages/sklearn/linear_model/sag.py:334: ConvergenceWarning: The max_iter was reached which means the coef_ did not converge\n",
      "  \"the coef_ did not converge\", ConvergenceWarning)\n",
      "/anaconda3/lib/python3.7/site-packages/sklearn/linear_model/sag.py:334: ConvergenceWarning: The max_iter was reached which means the coef_ did not converge\n",
      "  \"the coef_ did not converge\", ConvergenceWarning)\n",
      "/anaconda3/lib/python3.7/site-packages/sklearn/linear_model/sag.py:334: ConvergenceWarning: The max_iter was reached which means the coef_ did not converge\n",
      "  \"the coef_ did not converge\", ConvergenceWarning)\n",
      "/anaconda3/lib/python3.7/site-packages/sklearn/linear_model/sag.py:334: ConvergenceWarning: The max_iter was reached which means the coef_ did not converge\n",
      "  \"the coef_ did not converge\", ConvergenceWarning)\n"
     ]
    },
    {
     "name": "stdout",
     "output_type": "stream",
     "text": [
      "Overall Accuracy: 0.71 (+/- 0.02)\n"
     ]
    },
    {
     "name": "stderr",
     "output_type": "stream",
     "text": [
      "/anaconda3/lib/python3.7/site-packages/sklearn/linear_model/sag.py:334: ConvergenceWarning: The max_iter was reached which means the coef_ did not converge\n",
      "  \"the coef_ did not converge\", ConvergenceWarning)\n",
      "/anaconda3/lib/python3.7/site-packages/sklearn/linear_model/sag.py:334: ConvergenceWarning: The max_iter was reached which means the coef_ did not converge\n",
      "  \"the coef_ did not converge\", ConvergenceWarning)\n"
     ]
    }
   ],
   "source": [
    "from sklearn.model_selection import cross_val_score\n",
    "cv_scores = cross_val_score(m2, x, y, cv=10)\n",
    "cv_scores\n",
    "print(\"Overall Accuracy: %0.2f (+/- %0.2f)\" % (cv_scores.mean(), cv_scores.std() * 2))"
   ]
  },
  {
   "cell_type": "markdown",
   "metadata": {},
   "source": [
    "## Application"
   ]
  },
  {
   "cell_type": "code",
   "execution_count": 155,
   "metadata": {},
   "outputs": [],
   "source": [
    "p_test_1 = pd.DataFrame(prob_test_1)\n",
    "p_train_1 = pd.DataFrame(prob_train_1)\n",
    "p_1 = pd.concat([p_test_1, p_train_1])\n",
    "p_1 = p_1.reset_index(drop=True)\n",
    "p_1 = np.array(p_1)\n",
    "\n",
    "p = [p_1[i][0] for i in range (len(p_1))]\n",
    "p = np.array(p)"
   ]
  },
  {
   "cell_type": "code",
   "execution_count": 156,
   "metadata": {},
   "outputs": [
    {
     "data": {
      "text/plain": [
       "[(0.285, 0.302], (0.302, 0.399], (0.244, 0.285], (0.302, 0.399], (0.244, 0.285], ..., (0.302, 0.399], (0.399, 0.793], (0.244, 0.285], (0.244, 0.285], (0.302, 0.399]]\n",
       "Length: 1036\n",
       "Categories (5, interval[float64]): [(-0.000545, 0.244] < (0.244, 0.285] < (0.285, 0.302] < (0.302, 0.399] < (0.399, 0.793]]"
      ]
     },
     "execution_count": 156,
     "metadata": {},
     "output_type": "execute_result"
    }
   ],
   "source": [
    "p_score = pd.qcut(p, 5)\n",
    "p_score"
   ]
  },
  {
   "cell_type": "code",
   "execution_count": 157,
   "metadata": {},
   "outputs": [],
   "source": [
    "x_name = df_copy['Customer Name']\n",
    "x_train_name, x_test_name = train_test_split(x_name, test_size=0.33, random_state=11)\n",
    "#x_train_name"
   ]
  },
  {
   "cell_type": "markdown",
   "metadata": {},
   "source": [
    "- <b>Apply score back to train set</b>"
   ]
  },
  {
   "cell_type": "code",
   "execution_count": 158,
   "metadata": {},
   "outputs": [],
   "source": [
    "p_train_bin = np.array(p_train_1)\n",
    "p_train_bin = [p_train_bin[i][0] for i in range (len(p_train_bin))]\n",
    "new_bins = [-0.000545, 0.244, 0.285, 0.302, 0.399, 0.793]\n",
    "p_train_bin = pd.cut(p_train_bin, new_bins).astype(str)\n",
    "\n",
    "for i in range (len(p_train_bin)):\n",
    "    if p_train_bin[i] == '(-0.000545, 0.244]':\n",
    "        p_train_bin[i] = '1'\n",
    "    elif p_train_bin[i] == '(0.244, 0.285]':\n",
    "        p_train_bin[i] = '2'\n",
    "    elif p_train_bin[i] == '(0.285, 0.302]':\n",
    "        p_train_bin[i] = '3'\n",
    "    elif p_train_bin[i] == '(0.302, 0.399]':\n",
    "        p_train_bin[i] = '4'\n",
    "    else: #p_train_bin[i] == '(0.399, 0.793]':\n",
    "        p_train_bin[i] = '5'\n",
    "\n",
    "#p_train_bin        "
   ]
  },
  {
   "cell_type": "code",
   "execution_count": 159,
   "metadata": {},
   "outputs": [],
   "source": [
    "x_train_new = pd.DataFrame()\n",
    "x_train_new['customer name'] = x_train_name\n",
    "x_train_new = x_train_new.reset_index(drop=True)\n",
    "x_train_new['prob'] = p_train_1\n",
    "x_train_new['score'] = p_train_bin\n",
    "#x_train_new"
   ]
  },
  {
   "cell_type": "markdown",
   "metadata": {},
   "source": [
    "- <b>Apply score back to test set</b>"
   ]
  },
  {
   "cell_type": "code",
   "execution_count": 160,
   "metadata": {},
   "outputs": [],
   "source": [
    "p_test_bin = np.array(p_test_1)\n",
    "p_test_bin = [p_test_bin[i][0] for i in range (len(p_test_bin))]\n",
    "p_test_bin = pd.cut(p_test_bin, new_bins).astype(str)\n",
    "\n",
    "for i in range (len(p_test_bin)):\n",
    "    if p_test_bin[i] == '(-0.000545, 0.244]':\n",
    "        p_test_bin[i] = '1'\n",
    "    elif p_test_bin[i] == '(0.244, 0.285]':\n",
    "        p_test_bin[i] = '2'\n",
    "    elif p_test_bin[i] == '(0.285, 0.302]':\n",
    "        p_test_bin[i] = '3'\n",
    "    elif p_test_bin[i] == '(0.302, 0.399]':\n",
    "        p_test_bin[i] = '4'\n",
    "    else: #p_train_bin[i] == '(0.399, 0.793]':\n",
    "        p_test_bin[i] = '5'"
   ]
  },
  {
   "cell_type": "code",
   "execution_count": 161,
   "metadata": {},
   "outputs": [],
   "source": [
    "x_test_new = pd.DataFrame()\n",
    "x_test_new['customer name'] = x_test_name\n",
    "x_test_new = x_test_new.reset_index(drop=True)\n",
    "x_test_new['prob'] = p_test_1\n",
    "x_test_new['score'] = p_test_bin\n",
    "#x_train_new"
   ]
  },
  {
   "cell_type": "code",
   "execution_count": 165,
   "metadata": {},
   "outputs": [],
   "source": [
    "combined = pd.concat([x_train_new, x_test_new], ignore_index=True)\n",
    "combined = combined.sort_values(by=['customer name'])\n",
    "combined = combined.reset_index(drop=True)\n",
    "#combined"
   ]
  },
  {
   "cell_type": "code",
   "execution_count": 163,
   "metadata": {},
   "outputs": [
    {
     "data": {
      "text/html": [
       "<div>\n",
       "<style scoped>\n",
       "    .dataframe tbody tr th:only-of-type {\n",
       "        vertical-align: middle;\n",
       "    }\n",
       "\n",
       "    .dataframe tbody tr th {\n",
       "        vertical-align: top;\n",
       "    }\n",
       "\n",
       "    .dataframe thead th {\n",
       "        text-align: right;\n",
       "    }\n",
       "</style>\n",
       "<table border=\"1\" class=\"dataframe\">\n",
       "  <thead>\n",
       "    <tr style=\"text-align: right;\">\n",
       "      <th></th>\n",
       "      <th>customer name</th>\n",
       "      <th>prob</th>\n",
       "    </tr>\n",
       "    <tr>\n",
       "      <th>score</th>\n",
       "      <th></th>\n",
       "      <th></th>\n",
       "    </tr>\n",
       "  </thead>\n",
       "  <tbody>\n",
       "    <tr>\n",
       "      <th>1</th>\n",
       "      <td>207</td>\n",
       "      <td>207</td>\n",
       "    </tr>\n",
       "    <tr>\n",
       "      <th>2</th>\n",
       "      <td>212</td>\n",
       "      <td>212</td>\n",
       "    </tr>\n",
       "    <tr>\n",
       "      <th>3</th>\n",
       "      <td>207</td>\n",
       "      <td>207</td>\n",
       "    </tr>\n",
       "    <tr>\n",
       "      <th>4</th>\n",
       "      <td>203</td>\n",
       "      <td>203</td>\n",
       "    </tr>\n",
       "    <tr>\n",
       "      <th>5</th>\n",
       "      <td>207</td>\n",
       "      <td>207</td>\n",
       "    </tr>\n",
       "  </tbody>\n",
       "</table>\n",
       "</div>"
      ],
      "text/plain": [
       "       customer name  prob\n",
       "score                     \n",
       "1                207   207\n",
       "2                212   212\n",
       "3                207   207\n",
       "4                203   203\n",
       "5                207   207"
      ]
     },
     "execution_count": 163,
     "metadata": {},
     "output_type": "execute_result"
    }
   ],
   "source": [
    "score_group = combined.groupby(by='score').count()\n",
    "score_group"
   ]
  },
  {
   "cell_type": "code",
   "execution_count": 164,
   "metadata": {},
   "outputs": [],
   "source": [
    "combined.to_csv('Customer Health Score.csv', index=False)"
   ]
  },
  {
   "cell_type": "code",
   "execution_count": null,
   "metadata": {},
   "outputs": [],
   "source": []
  }
 ],
 "metadata": {
  "kernelspec": {
   "display_name": "Python 3",
   "language": "python",
   "name": "python3"
  },
  "language_info": {
   "codemirror_mode": {
    "name": "ipython",
    "version": 3
   },
   "file_extension": ".py",
   "mimetype": "text/x-python",
   "name": "python",
   "nbconvert_exporter": "python",
   "pygments_lexer": "ipython3",
   "version": "3.7.3"
  }
 },
 "nbformat": 4,
 "nbformat_minor": 2
}
