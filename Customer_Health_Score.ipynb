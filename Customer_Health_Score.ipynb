{
 "cells": [
  {
   "cell_type": "markdown",
   "metadata": {},
   "source": [
    "# Customer Health/Risk Score Project\n",
    "\n",
    "Author: Lavinia Wang <br>\n",
    "@Showpad\n",
    "\n",
    "This project aims to use Showpad customers' (legal) profile(historical data) to build statistical models that will help understand:\n",
    "- What patterns indicate customer will churn\n",
    "- How likely the customer is going to churn\n",
    "- What score the customer should be labeled in terms of risk to churn\n",
    "\n",
    "Methods:\n",
    "- Logistic regression\n",
    "- Randrom forest\n",
    "- KNN\n",
    "- LDA\n",
    "- Naive bayes\n",
    "- Neural network"
   ]
  },
  {
   "cell_type": "code",
   "execution_count": 127,
   "metadata": {},
   "outputs": [],
   "source": [
    "## Import modules\n",
    "import numpy as np\n",
    "import pandas as pd\n",
    "import datetime as dt\n",
    "import math\n",
    "from sklearn.impute import SimpleImputer\n",
    "from sklearn import preprocessing\n",
    "from sklearn.linear_model import LogisticRegression\n",
    "from sklearn import metrics\n",
    "from sklearn.model_selection import cross_val_score\n",
    "from sklearn.model_selection import train_test_split\n",
    "from sklearn import neighbors, naive_bayes\n",
    "from sklearn.ensemble import RandomForestClassifier\n",
    "from sklearn.discriminant_analysis import LinearDiscriminantAnalysis\n",
    "from sklearn.neural_network import MLPClassifier\n",
    "from sklearn.metrics import classification_report\n",
    "from sklearn.metrics import confusion_matrix"
   ]
  },
  {
   "cell_type": "code",
   "execution_count": 3,
   "metadata": {},
   "outputs": [],
   "source": [
    "## Load file into pandas\n",
    "## Data starts in row #5\n",
    "df = pd.read_csv(\"/Users/liyan.wang/Desktop/Customer_Health_Score/Metadata SFDC (customers active at Feb2018) - Main.csv\", header=0)\n",
    "df = df[4:].reset_index(drop=True)\n",
    "#df"
   ]
  },
  {
   "cell_type": "code",
   "execution_count": 4,
   "metadata": {},
   "outputs": [
    {
     "data": {
      "text/plain": [
       "(1087, 41)"
      ]
     },
     "execution_count": 4,
     "metadata": {},
     "output_type": "execute_result"
    }
   ],
   "source": [
    "df.shape"
   ]
  },
  {
   "cell_type": "code",
   "execution_count": 5,
   "metadata": {},
   "outputs": [
    {
     "data": {
      "text/html": [
       "<div>\n",
       "<style scoped>\n",
       "    .dataframe tbody tr th:only-of-type {\n",
       "        vertical-align: middle;\n",
       "    }\n",
       "\n",
       "    .dataframe tbody tr th {\n",
       "        vertical-align: top;\n",
       "    }\n",
       "\n",
       "    .dataframe thead th {\n",
       "        text-align: right;\n",
       "    }\n",
       "</style>\n",
       "<table border=\"1\" class=\"dataframe\">\n",
       "  <thead>\n",
       "    <tr style=\"text-align: right;\">\n",
       "      <th></th>\n",
       "      <th>Customer Name</th>\n",
       "      <th>SFDC Account ID</th>\n",
       "      <th>Account Status</th>\n",
       "      <th>Okay for Speech API Rollout?</th>\n",
       "      <th>Current Location (primary)</th>\n",
       "      <th>Current Location (secondary)</th>\n",
       "      <th>Filename (primary)</th>\n",
       "      <th>Filename (secondary)</th>\n",
       "      <th>Initial Term Start Date</th>\n",
       "      <th>Initial Term Length</th>\n",
       "      <th>...</th>\n",
       "      <th>Account Contract End Date</th>\n",
       "      <th>Account Owner</th>\n",
       "      <th>Customer Success Coach</th>\n",
       "      <th>Expected Renewal ARR * Currency</th>\n",
       "      <th>Package</th>\n",
       "      <th>Assigned users</th>\n",
       "      <th>Segment</th>\n",
       "      <th>Billing State/Province</th>\n",
       "      <th>Billing Country</th>\n",
       "      <th>Hoovers Industry</th>\n",
       "    </tr>\n",
       "  </thead>\n",
       "  <tbody>\n",
       "    <tr>\n",
       "      <th>count</th>\n",
       "      <td>1087</td>\n",
       "      <td>1087</td>\n",
       "      <td>1087</td>\n",
       "      <td>1087</td>\n",
       "      <td>1069</td>\n",
       "      <td>724</td>\n",
       "      <td>1065</td>\n",
       "      <td>720</td>\n",
       "      <td>1080</td>\n",
       "      <td>1080</td>\n",
       "      <td>...</td>\n",
       "      <td>1079</td>\n",
       "      <td>1087</td>\n",
       "      <td>1072</td>\n",
       "      <td>1087</td>\n",
       "      <td>1087</td>\n",
       "      <td>1087</td>\n",
       "      <td>1087</td>\n",
       "      <td>523</td>\n",
       "      <td>1086</td>\n",
       "      <td>330</td>\n",
       "    </tr>\n",
       "    <tr>\n",
       "      <th>unique</th>\n",
       "      <td>1087</td>\n",
       "      <td>1087</td>\n",
       "      <td>12</td>\n",
       "      <td>8</td>\n",
       "      <td>1027</td>\n",
       "      <td>678</td>\n",
       "      <td>1028</td>\n",
       "      <td>676</td>\n",
       "      <td>658</td>\n",
       "      <td>19</td>\n",
       "      <td>...</td>\n",
       "      <td>350</td>\n",
       "      <td>36</td>\n",
       "      <td>20</td>\n",
       "      <td>3</td>\n",
       "      <td>5</td>\n",
       "      <td>134</td>\n",
       "      <td>2</td>\n",
       "      <td>82</td>\n",
       "      <td>41</td>\n",
       "      <td>138</td>\n",
       "    </tr>\n",
       "    <tr>\n",
       "      <th>top</th>\n",
       "      <td>Recticel Insulation</td>\n",
       "      <td>001D000001XSlN0</td>\n",
       "      <td>Active Customer - Content</td>\n",
       "      <td>ok</td>\n",
       "      <td>Conga-SAI-00654</td>\n",
       "      <td>Box: RestrictedLegal/Contract/Customer Contrac...</td>\n",
       "      <td>Saint-Gobain SSA 30nov2015</td>\n",
       "      <td>Arval Service Lease SA SO 21dec2017</td>\n",
       "      <td>31Dec2017</td>\n",
       "      <td>12</td>\n",
       "      <td>...</td>\n",
       "      <td>31/12/2018</td>\n",
       "      <td>Bartel Van Herreweghe</td>\n",
       "      <td>Celine Vincent</td>\n",
       "      <td>EUR</td>\n",
       "      <td>Essential</td>\n",
       "      <td>100</td>\n",
       "      <td>MM</td>\n",
       "      <td>California</td>\n",
       "      <td>United States</td>\n",
       "      <td>Medical Equipment &amp; Supplies Manufacturing</td>\n",
       "    </tr>\n",
       "    <tr>\n",
       "      <th>freq</th>\n",
       "      <td>1</td>\n",
       "      <td>1</td>\n",
       "      <td>711</td>\n",
       "      <td>821</td>\n",
       "      <td>23</td>\n",
       "      <td>20</td>\n",
       "      <td>23</td>\n",
       "      <td>20</td>\n",
       "      <td>42</td>\n",
       "      <td>992</td>\n",
       "      <td>...</td>\n",
       "      <td>85</td>\n",
       "      <td>238</td>\n",
       "      <td>321</td>\n",
       "      <td>642</td>\n",
       "      <td>623</td>\n",
       "      <td>385</td>\n",
       "      <td>834</td>\n",
       "      <td>65</td>\n",
       "      <td>301</td>\n",
       "      <td>28</td>\n",
       "    </tr>\n",
       "  </tbody>\n",
       "</table>\n",
       "<p>4 rows × 36 columns</p>\n",
       "</div>"
      ],
      "text/plain": [
       "              Customer Name  SFDC Account ID             Account Status  \\\n",
       "count                  1087             1087                       1087   \n",
       "unique                 1087             1087                         12   \n",
       "top     Recticel Insulation  001D000001XSlN0  Active Customer - Content   \n",
       "freq                      1                1                        711   \n",
       "\n",
       "       Okay for Speech API Rollout? Current Location (primary)  \\\n",
       "count                          1087                       1069   \n",
       "unique                            8                       1027   \n",
       "top                              ok            Conga-SAI-00654   \n",
       "freq                            821                         23   \n",
       "\n",
       "                             Current Location (secondary)  \\\n",
       "count                                                 724   \n",
       "unique                                                678   \n",
       "top     Box: RestrictedLegal/Contract/Customer Contrac...   \n",
       "freq                                                   20   \n",
       "\n",
       "                Filename (primary)                 Filename (secondary)  \\\n",
       "count                         1065                                  720   \n",
       "unique                        1028                                  676   \n",
       "top     Saint-Gobain SSA 30nov2015  Arval Service Lease SA SO 21dec2017   \n",
       "freq                            23                                   20   \n",
       "\n",
       "       Initial Term Start Date Initial Term Length  ...  \\\n",
       "count                     1080                1080  ...   \n",
       "unique                     658                  19  ...   \n",
       "top                  31Dec2017                  12  ...   \n",
       "freq                        42                 992  ...   \n",
       "\n",
       "       Account Contract End Date          Account Owner  \\\n",
       "count                       1079                   1087   \n",
       "unique                       350                     36   \n",
       "top                   31/12/2018  Bartel Van Herreweghe   \n",
       "freq                          85                    238   \n",
       "\n",
       "       Customer Success Coach Expected Renewal ARR * Currency    Package  \\\n",
       "count                    1072                            1087       1087   \n",
       "unique                     20                               3          5   \n",
       "top            Celine Vincent                             EUR  Essential   \n",
       "freq                      321                             642        623   \n",
       "\n",
       "       Assigned users Segment Billing State/Province Billing Country  \\\n",
       "count            1087    1087                    523            1086   \n",
       "unique            134       2                     82              41   \n",
       "top               100      MM             California   United States   \n",
       "freq              385     834                     65             301   \n",
       "\n",
       "                                  Hoovers Industry  \n",
       "count                                          330  \n",
       "unique                                         138  \n",
       "top     Medical Equipment & Supplies Manufacturing  \n",
       "freq                                            28  \n",
       "\n",
       "[4 rows x 36 columns]"
      ]
     },
     "execution_count": 5,
     "metadata": {},
     "output_type": "execute_result"
    }
   ],
   "source": [
    "df.describe(include=\"O\")"
   ]
  },
  {
   "cell_type": "code",
   "execution_count": 6,
   "metadata": {},
   "outputs": [
    {
     "data": {
      "text/html": [
       "<div>\n",
       "<style scoped>\n",
       "    .dataframe tbody tr th:only-of-type {\n",
       "        vertical-align: middle;\n",
       "    }\n",
       "\n",
       "    .dataframe tbody tr th {\n",
       "        vertical-align: top;\n",
       "    }\n",
       "\n",
       "    .dataframe thead th {\n",
       "        text-align: right;\n",
       "    }\n",
       "</style>\n",
       "<table border=\"1\" class=\"dataframe\">\n",
       "  <thead>\n",
       "    <tr style=\"text-align: right;\">\n",
       "      <th></th>\n",
       "      <th>Expected Renewal ARR *</th>\n",
       "      <th>N° of Licenses</th>\n",
       "      <th>Used Licenses</th>\n",
       "      <th>Employees</th>\n",
       "      <th>Fortune Rank</th>\n",
       "    </tr>\n",
       "  </thead>\n",
       "  <tbody>\n",
       "    <tr>\n",
       "      <th>count</th>\n",
       "      <td>1087.000000</td>\n",
       "      <td>1087.000000</td>\n",
       "      <td>1087.000000</td>\n",
       "      <td>725.000000</td>\n",
       "      <td>56.000000</td>\n",
       "    </tr>\n",
       "    <tr>\n",
       "      <th>mean</th>\n",
       "      <td>21767.509126</td>\n",
       "      <td>114.708372</td>\n",
       "      <td>95.949402</td>\n",
       "      <td>10218.663448</td>\n",
       "      <td>214.035714</td>\n",
       "    </tr>\n",
       "    <tr>\n",
       "      <th>std</th>\n",
       "      <td>44749.374503</td>\n",
       "      <td>400.164184</td>\n",
       "      <td>367.383186</td>\n",
       "      <td>33080.652847</td>\n",
       "      <td>307.364395</td>\n",
       "    </tr>\n",
       "    <tr>\n",
       "      <th>min</th>\n",
       "      <td>-679.350000</td>\n",
       "      <td>0.000000</td>\n",
       "      <td>0.000000</td>\n",
       "      <td>0.000000</td>\n",
       "      <td>0.000000</td>\n",
       "    </tr>\n",
       "    <tr>\n",
       "      <th>25%</th>\n",
       "      <td>3000.000000</td>\n",
       "      <td>10.000000</td>\n",
       "      <td>7.000000</td>\n",
       "      <td>100.000000</td>\n",
       "      <td>0.000000</td>\n",
       "    </tr>\n",
       "    <tr>\n",
       "      <th>50%</th>\n",
       "      <td>8400.000000</td>\n",
       "      <td>25.000000</td>\n",
       "      <td>19.000000</td>\n",
       "      <td>430.000000</td>\n",
       "      <td>0.000000</td>\n",
       "    </tr>\n",
       "    <tr>\n",
       "      <th>75%</th>\n",
       "      <td>21627.500000</td>\n",
       "      <td>65.000000</td>\n",
       "      <td>54.000000</td>\n",
       "      <td>3800.000000</td>\n",
       "      <td>416.000000</td>\n",
       "    </tr>\n",
       "    <tr>\n",
       "      <th>max</th>\n",
       "      <td>725400.000000</td>\n",
       "      <td>7500.000000</td>\n",
       "      <td>7228.000000</td>\n",
       "      <td>219678.000000</td>\n",
       "      <td>948.000000</td>\n",
       "    </tr>\n",
       "  </tbody>\n",
       "</table>\n",
       "</div>"
      ],
      "text/plain": [
       "       Expected Renewal ARR *  N° of Licenses  Used Licenses      Employees  \\\n",
       "count             1087.000000     1087.000000    1087.000000     725.000000   \n",
       "mean             21767.509126      114.708372      95.949402   10218.663448   \n",
       "std              44749.374503      400.164184     367.383186   33080.652847   \n",
       "min               -679.350000        0.000000       0.000000       0.000000   \n",
       "25%               3000.000000       10.000000       7.000000     100.000000   \n",
       "50%               8400.000000       25.000000      19.000000     430.000000   \n",
       "75%              21627.500000       65.000000      54.000000    3800.000000   \n",
       "max             725400.000000     7500.000000    7228.000000  219678.000000   \n",
       "\n",
       "       Fortune Rank  \n",
       "count     56.000000  \n",
       "mean     214.035714  \n",
       "std      307.364395  \n",
       "min        0.000000  \n",
       "25%        0.000000  \n",
       "50%        0.000000  \n",
       "75%      416.000000  \n",
       "max      948.000000  "
      ]
     },
     "execution_count": 6,
     "metadata": {},
     "output_type": "execute_result"
    }
   ],
   "source": [
    "## Look at descriptive statistics of numeric variables\n",
    "df.describe()"
   ]
  },
  {
   "cell_type": "code",
   "execution_count": 7,
   "metadata": {},
   "outputs": [
    {
     "data": {
      "text/plain": [
       "Index(['Customer Name', 'SFDC Account ID', 'Account Status',\n",
       "       'Okay for Speech API Rollout?', 'Current Location (primary)',\n",
       "       'Current Location (secondary)', 'Filename (primary)',\n",
       "       'Filename (secondary)', 'Initial Term Start Date',\n",
       "       'Initial Term Length', 'Auto-renewal', 'Termination Rights',\n",
       "       'Marketing', 'Non-Solicit Obligations', 'Legal Terms and Conditions',\n",
       "       'SLA', 'DPA', 'Privacy Policy Change Notice Requirement',\n",
       "       'Data or Security Breach Notice Requirement',\n",
       "       'Change of Control provision', 'Governing Law',\n",
       "       'Notable Non-Standard Terms', 'Outrageous Terms',\n",
       "       'Expected Renewal ARR * (converted) Currency',\n",
       "       'Expected Renewal ARR * (converted)', 'Account Status.1',\n",
       "       'Account Contract End Date', 'Account Owner', 'Customer Success Coach',\n",
       "       'Expected Renewal ARR * Currency', 'Expected Renewal ARR *', 'Package',\n",
       "       'N° of Licenses', 'Used Licenses', 'Assigned users', 'Segment',\n",
       "       'Employees', 'Fortune Rank', 'Billing State/Province',\n",
       "       'Billing Country', 'Hoovers Industry'],\n",
       "      dtype='object')"
      ]
     },
     "execution_count": 7,
     "metadata": {},
     "output_type": "execute_result"
    }
   ],
   "source": [
    "## Ouput column names for future use\n",
    "df.columns"
   ]
  },
  {
   "cell_type": "markdown",
   "metadata": {},
   "source": [
    "## Variable Exploration "
   ]
  },
  {
   "cell_type": "markdown",
   "metadata": {},
   "source": [
    "Explore distribution of various levels in each categorical variable that should be used in the model"
   ]
  },
  {
   "cell_type": "code",
   "execution_count": 8,
   "metadata": {},
   "outputs": [],
   "source": [
    "## Function that takes dataframe group by each categorical column/variable\n",
    "## Output a table shows grouping numbers by different levels and a bar chart to visualize\n",
    "\n",
    "def exploration(data, variable):\n",
    "    lst = data.groupby(by=variable).count()\n",
    "    lst = lst['SFDC Account ID']\n",
    "    print(lst)\n",
    "    lst.plot.bar()  "
   ]
  },
  {
   "cell_type": "code",
   "execution_count": 9,
   "metadata": {},
   "outputs": [],
   "source": [
    "#c_Speech_API_Rollout = exploration(df,'Okay for Speech API Rollout?')\n",
    "#c_Initial_Term_Length = exploration(df,'Initial Term Length')\n",
    "#c_Auto_renewal = exploration(df, 'Auto-renewal')\n",
    "#c_Termination_Rights = exploration(df,'Termination Rights')\n",
    "#c_Marketing = exploration(df,'Marketing')\n",
    "#c_Non_Solicit_Obligations = exploration(df,'Non-Solicit Obligations')\n",
    "#c_Legal_Terms_Conditions = exploration(df, 'Legal Terms and Conditions')\n",
    "#c_SLA = exploration(df,'SLA')\n",
    "#c_DPA = exploration(df,'DPA')\n",
    "#c_Privacy_Change_Notice = exploration(df,'Privacy Policy Change Notice Requirement')\n",
    "#c_Data_Security_Breach_Notice = exploration(df,'Data or Security Breach Notice Requirement')\n",
    "#c_Control_provision = exploration(df,'Change of Control provision')\n",
    "#c_Governing_Law = exploration(df,'Governing Law')\n",
    "#c_Outrageous_Terms = exploration(df,'Outrageous Terms')\n",
    "#c_account = exploration(df,'Account Status')\n",
    "#c_Account_Owner = exploration(df,'Account Owner')\n",
    "#c_Customer_Success_Coach = exploration(df,'Customer Success Coach')\n",
    "#c_Package = exploration(df,'Package')\n",
    "#c_Segment = exploration(df,'Segment')"
   ]
  },
  {
   "cell_type": "markdown",
   "metadata": {},
   "source": [
    "<b>After disucssion with legal team @6/27/2019 3:30:-4:30 pm CST, 'Account status' is selected as dependent/outcome variable. Therefore this is a typical prediction problem for calculating probability of an instance (churn) and feature selected can be used for interpretation. </b>\n",
    "    \n",
    "1. Transformation need to be done:\n",
    "    - Remove varibales irrevelant to model building, which are: 'SFDC Account ID','Current Location (primary)', 'Current Location (secondary)', 'Filename (primary)', 'Filename (secondary)',  'Account Contract End Date', 'Account Owner', 'Customer Success Coach', 'Fortune Rank', 'Billing State/Province', 'Billing Country', 'Hoovers Industry'\n",
    "    - Remove rows with missing or irrelevant values(consent with legal team)\n",
    "    - Transform 'Initial term start date' into 'Duration', which is calculated from initial term start date and use today's date as the end date.\n",
    "    - Group/bin variables into a more standard format, e.g 'Auto-renewal' \n",
    "    - Convert 'Notable Non-standard Terms' and 'Outrageous Terms' into a binary answer question, i.e. any filled-in contents is considered 'Yes' and no is 'No'\n",
    "    - Convert currency into a uniformed format, i.e. use 'Expected Renewal ARR *' of its own currency to generate renewal ARR in EUR \n",
    "    - Follow up with @Joy on how to group variables 'Okay for Speech API Rollout' and 'Governing Law'\n",
    "\n",
    "2. Create dummy variables for all revelant categorical variables\n",
    "3. Normalize data for modeling"
   ]
  },
  {
   "cell_type": "markdown",
   "metadata": {},
   "source": [
    "## Transformation"
   ]
  },
  {
   "cell_type": "markdown",
   "metadata": {},
   "source": [
    "- <b> Remove irrelevant variables from dataframe\n",
    "- <b> Remove irrelevant account status from dataframe\n",
    "- <b> Remove rows with null in 'Initial Term Start Date'</b>"
   ]
  },
  {
   "cell_type": "code",
   "execution_count": 10,
   "metadata": {},
   "outputs": [],
   "source": [
    "def data_cleaning(data):\n",
    "    df_copy = data.drop(labels=['SFDC Account ID','Current Location (primary)', 'Current Location (secondary)', 'Filename (primary)', \\\n",
    "    'Filename (secondary)', 'Expected Renewal ARR * (converted) Currency','Expected Renewal ARR * (converted)', 'Account Status.1', \\\n",
    "    'Account Contract End Date', 'Account Owner','Customer Success Coach', 'Fortune Rank', 'Billing State/Province', 'Billing Country', \\\n",
    "    'Hoovers Industry'], axis=1)\n",
    "    \n",
    "    # Remove irrelevant account status from dataframe\n",
    "    remove_list = ['Active Customer - Reverse Ghost', 'Ghost Active - Content', 'Ghost Churned', 'Lead Partner', 'Prospect', 'Sandbox']\n",
    "    for i in range(len(remove_list)):\n",
    "        df_copy = df_copy[df_copy['Account Status'] != remove_list[i]]\n",
    "\n",
    "    #null_row = df_copy[df_copy['Initial Term Start Date'].isnull()]\n",
    "\n",
    "    df_copy = df_copy[df_copy['Customer Name'] != 'Technology Association of Oregon'].reset_index(drop=True)\n",
    "    \n",
    "    return df_copy"
   ]
  },
  {
   "cell_type": "code",
   "execution_count": 11,
   "metadata": {},
   "outputs": [],
   "source": [
    "df_copy = data_cleaning(df)"
   ]
  },
  {
   "cell_type": "code",
   "execution_count": 12,
   "metadata": {},
   "outputs": [
    {
     "data": {
      "text/plain": [
       "(1036, 26)"
      ]
     },
     "execution_count": 12,
     "metadata": {},
     "output_type": "execute_result"
    }
   ],
   "source": [
    "df_copy.shape"
   ]
  },
  {
   "cell_type": "markdown",
   "metadata": {},
   "source": [
    "- <b>Change 'Initial term start date' into 'Duration' then bin the variable</b>"
   ]
  },
  {
   "cell_type": "code",
   "execution_count": 13,
   "metadata": {},
   "outputs": [],
   "source": [
    "def create_duration(data, variable):\n",
    "    # Change 'Initial term start date' into 'Duration' then bin the variable\n",
    "    df_copy['start_date'] = pd.to_datetime(data[variable])\n",
    "\n",
    "    # Use strftime (string format time) to get string mm/dd/yyyy instead of the datetime object\n",
    "    end_date = dt.datetime.today().strftime(\"%m/%d/%Y\")\n",
    "    end_date = pd.to_datetime(end_date)\n",
    "    end_date = [end_date for i in range (len(df_copy))]\n",
    "    df_copy['end_date'] = end_date\n",
    "\n",
    "    # Create new variable called Duration representing \n",
    "    # how long the customer has been with Showpad\n",
    "    diff = (df_copy['end_date'] - df_copy['start_date']).dt.days\n",
    "    diff = diff.apply(lambda x : int(x))\n",
    "\n",
    "    return diff"
   ]
  },
  {
   "cell_type": "code",
   "execution_count": 14,
   "metadata": {},
   "outputs": [],
   "source": [
    "df_copy['duration'] = create_duration(df_copy, 'Initial Term Start Date')"
   ]
  },
  {
   "cell_type": "markdown",
   "metadata": {},
   "source": [
    "- <b>Group/bin variables</b>"
   ]
  },
  {
   "cell_type": "markdown",
   "metadata": {},
   "source": [
    "1. 'Okay for Speech API Rollout?'"
   ]
  },
  {
   "cell_type": "code",
   "execution_count": 15,
   "metadata": {},
   "outputs": [],
   "source": [
    "def transform_okay_for_speech_api_rollout(data, variable):\n",
    "    # 1: OK, 2: Hold for Special Notice, 3: Hold for Consent\n",
    "    ok_list = ['OK-2', 'OK-3', 'OK-4', 'OK-DPA', 'ok', 'ok-5']\n",
    "    tmp = np.array(data[variable])\n",
    "\n",
    "    for i in range (tmp.size):\n",
    "        if tmp[i] in ok_list:\n",
    "            tmp[i] = '1'\n",
    "        elif tmp[i] == 'Hold for Special Notice':\n",
    "            tmp[i] = '2'\n",
    "        elif tmp[i] == 'Hold for Consent':\n",
    "            tmp[i] = '3'\n",
    "        else:\n",
    "            raise ValueError('Value not accepted.')\n",
    "    \n",
    "    speech_api_rollout = pd.DataFrame(tmp)\n",
    "\n",
    "    return speech_api_rollout"
   ]
  },
  {
   "cell_type": "code",
   "execution_count": 16,
   "metadata": {},
   "outputs": [],
   "source": [
    "df_copy['speech_api_rollout'] = transform_okay_for_speech_api_rollout(df_copy, 'Okay for Speech API Rollout?')"
   ]
  },
  {
   "cell_type": "markdown",
   "metadata": {},
   "source": [
    "2. 'Initial Term Length'"
   ]
  },
  {
   "cell_type": "code",
   "execution_count": 17,
   "metadata": {},
   "outputs": [],
   "source": [
    "def transform_initial_term_length(data, variable):\n",
    "    # Create 4 equal width bins: (0,12], (12,24], (24,36],(36,48]\n",
    "    tmp = data[variable].apply(lambda x: int(x))\n",
    "    bins = [0, 12, 24, 36, 48]\n",
    "    tmp_bin = pd.cut(tmp, bins).astype(str)\n",
    "\n",
    "    for i in range (tmp.size):\n",
    "        try:\n",
    "            if tmp_bin[i] == '(0,12]':\n",
    "                tmp_bin[i] = '1'\n",
    "            elif tmp_bin[i] == '(12,24]':\n",
    "                tmp_bin[i] = '2'\n",
    "            elif tmp_bin[i] == '(24,36]':\n",
    "                tmp_bin[i] = '3'\n",
    "            else: #tmp[i] == '(36,48]'\n",
    "                tmp_bin[i] = '4'\n",
    "        except:\n",
    "            raise ValueError('Value not accepted.')\n",
    "    \n",
    "    return tmp_bin"
   ]
  },
  {
   "cell_type": "code",
   "execution_count": 18,
   "metadata": {},
   "outputs": [],
   "source": [
    "df_copy['term_length'] = transform_initial_term_length(df_copy, 'Initial Term Length')"
   ]
  },
  {
   "cell_type": "markdown",
   "metadata": {},
   "source": [
    "3. Auto-renewal"
   ]
  },
  {
   "cell_type": "code",
   "execution_count": 19,
   "metadata": {},
   "outputs": [],
   "source": [
    "def transform_auto_renewal(data, variable):\n",
    "    # 1: 'No', 2: 'Yes - 30-day notice', 3:' Yes - less than 30-day notice', 4: 'Yes - greater than 30-day notice'\n",
    "    yes_30_list = ['Yes', 'Yes ', 'Yes (30-day opt out)', 'Yes (30-day opt-out)', 'yes (30-day opt-out)','Yes (written notice)', \\\n",
    "    'Yes (Custom- written confirmation; 30-day opt-out)', 'Yes (custom opt-out)', 'Yes (custom-30-day opt-out)', 'Yes (written agreement)']\n",
    "    yes_30_more_list = ['Yes (3-month opt-out)', 'Yes (90-day opt-out)', 'Yes (90-day notification & 30-day opt-out)']\n",
    "    yes_30_less_list = ['Yes (1-day opt-out)', 'Yes (5-day opt-out)']\n",
    "    no_list = ['No', 'No (written agreement)', 'No (written notice required)']\n",
    "\n",
    "    tmp = np.array(data[variable]) \n",
    "\n",
    "    for i in range (tmp.size):\n",
    "        try:\n",
    "            if tmp[i] in no_list: \n",
    "                tmp[i] = '1'\n",
    "            elif tmp[i] in yes_30_list:\n",
    "                tmp[i] = '2'\n",
    "            elif tmp[i] in yes_30_less_list:\n",
    "                tmp[i] = '3'\n",
    "            elif tmp[i] in yes_30_more_list:\n",
    "                tmp[i] = '4'\n",
    "        except:\n",
    "            raise ValueError('Value not accepted.')\n",
    "    \n",
    "    auto_renewal = pd.DataFrame(tmp)\n",
    "\n",
    "    return auto_renewal"
   ]
  },
  {
   "cell_type": "code",
   "execution_count": 20,
   "metadata": {},
   "outputs": [],
   "source": [
    "df_copy['auto_renewal'] = transform_auto_renewal(df_copy, 'Auto-renewal')"
   ]
  },
  {
   "cell_type": "markdown",
   "metadata": {},
   "source": [
    "4. 'Termination Rights'"
   ]
  },
  {
   "cell_type": "code",
   "execution_count": 21,
   "metadata": {},
   "outputs": [],
   "source": [
    "def transform_termination_rights(data, variable):\n",
    "    # 1:'No', 2: 'Yes - less than 90-day notice', 3: 'Yes - at least 90-day notice'\n",
    "    yes_90_less_list = ['Yes', 'Yes (30 days)', 'Yes (5 days)', 'Yes (60-day notice)', 'Yes (Custom)', 'Yes (first 3 months)',\\\n",
    "        'Yes (written notice)', 'Yes - 30-day notice', 'Yes- Two Months Notice', 'Yes-Custom']\n",
    "    yes_90_or_more_list = ['Yes (90-day notice)', 'Yes - 90-day notice']\n",
    "\n",
    "    tmp = np.array(data[variable])\n",
    "\n",
    "    for i in range (tmp.size):\n",
    "        if tmp[i] == 'No':\n",
    "            tmp[i] = '1'\n",
    "        elif tmp[i] in yes_90_less_list:\n",
    "            tmp[i] = '2'\n",
    "        elif tmp[i] in yes_90_or_more_list:\n",
    "            tmp[i] = '3'\n",
    "        else: \n",
    "            raise ValueError('Value not accepted.')   \n",
    "    \n",
    "    termination_rights = pd.DataFrame(tmp)\n",
    "\n",
    "    return termination_rights"
   ]
  },
  {
   "cell_type": "code",
   "execution_count": 22,
   "metadata": {},
   "outputs": [],
   "source": [
    "df_copy['termination_rights'] = transform_termination_rights(df_copy, 'Termination Rights')"
   ]
  },
  {
   "cell_type": "markdown",
   "metadata": {},
   "source": [
    "5. 'Marketing' "
   ]
  },
  {
   "cell_type": "code",
   "execution_count": 23,
   "metadata": {},
   "outputs": [],
   "source": [
    "def transform_marketing(data, variable):\n",
    "    # 1: 'Affirmative prohibition', 2: 'Silent', 3: 'Basic permission to reference as a customer', 4:'Enhanced marketing commitment'\n",
    "    prohibition_list = ['Affirmative Prohibition', 'Affirmative prohibition', \"Referral Partner requires Showpad's approval\", 'No']\n",
    "    silent_list = ['Silent', 'Silent  ', 'Silent or Soft Commitment', 'Silent or Soft Commitment ', 'Silent or Soft Support']\n",
    "    reference_list = ['Agreed to provide marketing support']\n",
    "    enhanced_list = ['Enhanced marketing commitment']\n",
    "\n",
    "    tmp = np.array(data[variable])\n",
    "\n",
    "    for i in range (tmp.size):\n",
    "        try:\n",
    "            if tmp[i] in prohibition_list:\n",
    "                tmp[i] = '1'\n",
    "            elif tmp[i] in silent_list:\n",
    "                tmp[i] = '2'\n",
    "            elif tmp[i] in reference_list:\n",
    "                tmp[i] = '3'    \n",
    "            elif tmp[i] in enhanced_list: \n",
    "                tmp[i] = '4'\n",
    "        except:\n",
    "            raise ValueError('Value not accepted.')  \n",
    "        \n",
    "    marketing = pd.DataFrame(tmp)\n",
    "\n",
    "    return marketing"
   ]
  },
  {
   "cell_type": "code",
   "execution_count": 24,
   "metadata": {},
   "outputs": [],
   "source": [
    "df_copy['marketing'] = transform_marketing(df_copy, 'Marketing')"
   ]
  },
  {
   "cell_type": "markdown",
   "metadata": {},
   "source": [
    "6. 'Non-Solicit Obligations'"
   ]
  },
  {
   "cell_type": "code",
   "execution_count": 25,
   "metadata": {},
   "outputs": [],
   "source": [
    "def transform_non_solicit_obligations(data, variable):\n",
    "    # 1: Yes, 0: No\n",
    "    yes_list = ['Yes', 'Yes - 1 year']\n",
    "\n",
    "    tmp = np.array(df_copy['Non-Solicit Obligations'])\n",
    "\n",
    "    for i in range (tmp.size):\n",
    "        if tmp[i] in yes_list:\n",
    "            tmp[i] = '1'\n",
    "        elif tmp[i] == 'No':\n",
    "            tmp[i] = '0'\n",
    "        else:\n",
    "            raise ValueError('Value not accepted.')\n",
    "        \n",
    "    obligations = pd.DataFrame(tmp)\n",
    "\n",
    "    return obligations"
   ]
  },
  {
   "cell_type": "code",
   "execution_count": 26,
   "metadata": {},
   "outputs": [],
   "source": [
    "df_copy['obligations'] = transform_non_solicit_obligations(df_copy, 'Non-Solicit Obligations')"
   ]
  },
  {
   "cell_type": "markdown",
   "metadata": {},
   "source": [
    "7. 'Legal Terms and Conditions'"
   ]
  },
  {
   "cell_type": "code",
   "execution_count": 27,
   "metadata": {},
   "outputs": [],
   "source": [
    "def transform_legal_terms_n_conditions(data, variable):\n",
    "    # 1: 'Custom', 2: 'Standard (MSA 2018v2)', 3: 'Standard (MSA 1Apr18)', 4: 'Standard (3Apr17)', 5: 'Standard (15Nov16)', 6: 'Standard (pre-15Nov16)'\n",
    "    tmp = np.array(data[variable])\n",
    "\n",
    "    custom_list = ['Custom (amended Standard (15nov2016 - 31mar2017))', 'Custom']\n",
    "\n",
    "    for i in range (tmp.size):\n",
    "        if tmp[i] in custom_list :\n",
    "            tmp[i] = '1'\n",
    "        elif tmp[i] == 'Standard (MSA 2018v2)':\n",
    "            tmp[i] = '2'\n",
    "        elif tmp[i] == 'Standard (MSA 01apr2018)': \n",
    "            tmp[i] = '3'\n",
    "        elif tmp[i] == 'Standard (03apr2017-31mar2018)':\n",
    "            tmp[i] = '4'\n",
    "        elif tmp[i] == 'Standard (15nov2016 - 31mar2017)':\n",
    "            tmp[i] = '5'\n",
    "        elif tmp[i] == 'Standard (pre-15nov2016)':\n",
    "            tmp[i] = '6'\n",
    "        else:\n",
    "            raise ValueError('Value not accepted.')\n",
    "        \n",
    "    legal_terms = pd.DataFrame(tmp)\n",
    "\n",
    "    return legal_terms"
   ]
  },
  {
   "cell_type": "code",
   "execution_count": 28,
   "metadata": {},
   "outputs": [],
   "source": [
    "df_copy['legal_terms'] = transform_legal_terms_n_conditions(df_copy, 'Legal Terms and Conditions')"
   ]
  },
  {
   "cell_type": "markdown",
   "metadata": {},
   "source": [
    "8. 'SLA' "
   ]
  },
  {
   "cell_type": "code",
   "execution_count": 29,
   "metadata": {},
   "outputs": [],
   "source": [
    "def transform_sla(data, variable):\n",
    "     # 1: 'No', 2: 'Custom', 3: 'Standard (Nov2016)', 4: 'Standard (2015)'\n",
    "    custom_list = ['Yes', 'Yes ', 'Yes (Custom)', 'Yes (custom)', 'Yes (unknown)', 'Yes (updated time to time)']\n",
    "    std_2016_list = ['Yes (Standard SLA Nov2016)']\n",
    "    std_2015_list = ['Yes (Standard SLA 2015)', 'Yes (standard SLA 2015)']\n",
    "\n",
    "    tmp = np.array(data[variable])\n",
    "\n",
    "    for i in range (tmp.size):\n",
    "        if tmp[i] == 'No':\n",
    "            tmp[i] = '1'\n",
    "        elif tmp[i] in custom_list:\n",
    "            tmp[i] = '2'\n",
    "        elif tmp[i] in std_2016_list:\n",
    "            tmp[i] = '3'\n",
    "        elif tmp[i] in std_2015_list: \n",
    "            tmp[i] = '4'\n",
    "        else:\n",
    "            raise ValueError('Value not accepted.')\n",
    "    \n",
    "    sla = pd.DataFrame(tmp)\n",
    "\n",
    "    return sla"
   ]
  },
  {
   "cell_type": "code",
   "execution_count": 30,
   "metadata": {},
   "outputs": [],
   "source": [
    "df_copy['sla'] = transform_sla(df_copy, 'SLA')"
   ]
  },
  {
   "cell_type": "markdown",
   "metadata": {},
   "source": [
    "9. 'DPA'"
   ]
  },
  {
   "cell_type": "code",
   "execution_count": 31,
   "metadata": {},
   "outputs": [],
   "source": [
    "def transform_dpa(data, variable):\n",
    "    # 1: Yes, 0: No\n",
    "    tmp = np.array(data[variable])\n",
    "\n",
    "    for i in range (tmp.size):\n",
    "        if tmp[i] == 'Yes':\n",
    "            tmp[i] = '1'\n",
    "        elif tmp[i] == 'No':\n",
    "            tmp[i] = '0'\n",
    "        else:\n",
    "            raise ValueError('Value not accepted.')\n",
    "        \n",
    "    dpa = pd.DataFrame(tmp)\n",
    "\n",
    "    return dpa"
   ]
  },
  {
   "cell_type": "code",
   "execution_count": 32,
   "metadata": {},
   "outputs": [],
   "source": [
    "df_copy['dpa'] = transform_dpa(df_copy, 'DPA')"
   ]
  },
  {
   "cell_type": "markdown",
   "metadata": {},
   "source": [
    "10. 'Privacy Policy Change Notice Requirement'"
   ]
  },
  {
   "cell_type": "code",
   "execution_count": 33,
   "metadata": {},
   "outputs": [],
   "source": [
    "def transform_privacy_change_notice(data, variable):\n",
    "    # Convert blank to 'No' \n",
    "    # 1: 'No', 2: 'Notice and Opportunity to Object', 3: 'Passive Notice'\n",
    "    tmp = np.array(data[variable].fillna(1))\n",
    "\n",
    "    for i in range (len(tmp)):\n",
    "        try:\n",
    "            if tmp[i] == 'No':\n",
    "                tmp[i] = '1'\n",
    "            elif tmp[i] == 'Affirmative Opt-in or Amendment' or tmp[i] == 'Provide Opportunity to Review and Object':\n",
    "                tmp[i] = '2'\n",
    "            elif tmp[i] == 'Publication of Privacy Policy': \n",
    "                tmp[i] = '3'\n",
    "        except:\n",
    "            raise ValueError('Value not accepted.')\n",
    "        \n",
    "    prvcy_change_note = pd.DataFrame(tmp)\n",
    "\n",
    "    return prvcy_change_note"
   ]
  },
  {
   "cell_type": "code",
   "execution_count": 34,
   "metadata": {},
   "outputs": [],
   "source": [
    "df_copy['prvcy_change_note'] = transform_privacy_change_notice(df_copy, 'Privacy Policy Change Notice Requirement')"
   ]
  },
  {
   "cell_type": "markdown",
   "metadata": {},
   "source": [
    "11. 'Data or Security Breach Notice Requirement'"
   ]
  },
  {
   "cell_type": "code",
   "execution_count": 35,
   "metadata": {},
   "outputs": [],
   "source": [
    "def transform_data_security_breach_notice(data, variable):\n",
    "    # 1: 'No', 2: 'Yes - within 24 hours of discovery', 3: 'Yes - between 24-48 hours after discovery', 4: 'Yes - greater than 48 hours after discovery'\n",
    "    w_24_list = ['24 Hours', 'Yes (12 hours)', 'Yes (24 hours)', 'Yes (ASAP)', 'Yes (Immediately)', 'Yes (immediate)',\\\n",
    "        'Yes (immediately)', 'Yes (within 24 hours of discovery)', 'Yes- immediate notice of CI loss']\n",
    "    w_48_list = ['Yes', 'Yes  ', 'Yes (2 business days)', 'Yes (48 hours)', 'Yes (Custom)', 'Yes (Within 48 hours of discovery)', \\\n",
    "        'Yes (custom)', 'Yes (undefined)', 'Yes (immediate, within 48 hours)']\n",
    "    m_48_list = ['Yes (72 hours)', 'Yes (Without Undue Delay)', 'Yes (within 72 hours of discovery)']\n",
    "\n",
    "    tmp = np.array(data[variable])\n",
    "\n",
    "    for i in range (tmp.size):\n",
    "        try:\n",
    "            if tmp[i] == 'No':\n",
    "                tmp[i] = '1'\n",
    "            elif tmp[i] in w_24_list:\n",
    "                tmp[i] = '2'\n",
    "            elif tmp[i] in w_48_list:\n",
    "                tmp[i] = '3'\n",
    "            elif tmp[i] in m_48_list:\n",
    "                tmp[i] = '4'\n",
    "        except: \n",
    "            raise ValueError('Value not accepted.')\n",
    "          \n",
    "    sec_breach_note = pd.DataFrame(tmp)\n",
    "\n",
    "    return sec_breach_note"
   ]
  },
  {
   "cell_type": "code",
   "execution_count": 36,
   "metadata": {},
   "outputs": [],
   "source": [
    "df_copy['sec_breach_note'] = transform_data_security_breach_notice(df_copy, 'Data or Security Breach Notice Requirement')"
   ]
  },
  {
   "cell_type": "markdown",
   "metadata": {},
   "source": [
    "12. 'Change of Control provision'"
   ]
  },
  {
   "cell_type": "code",
   "execution_count": 37,
   "metadata": {},
   "outputs": [],
   "source": [
    "def transform_change_of_control_provision(data, variable):\n",
    "    # 1: Yes, 0: No\n",
    "    tmp = np.array(data[variable])\n",
    "\n",
    "    for i in range (tmp.size):\n",
    "        if tmp[i] == 'Yes':\n",
    "            tmp[i] = '1'\n",
    "        elif tmp[i] == 'No':\n",
    "            tmp[i] = '0'\n",
    "        else: \n",
    "            raise ValueError('Value not accepted.')\n",
    "        \n",
    "    cntrl_prvsn = pd.DataFrame(tmp)\n",
    "\n",
    "    return cntrl_prvsn"
   ]
  },
  {
   "cell_type": "code",
   "execution_count": 38,
   "metadata": {},
   "outputs": [],
   "source": [
    "df_copy['cntrl_prvsn'] = transform_change_of_control_provision(df_copy, 'Change of Control provision')"
   ]
  },
  {
   "cell_type": "markdown",
   "metadata": {},
   "source": [
    "13. 'Governing Law'"
   ]
  },
  {
   "cell_type": "code",
   "execution_count": 39,
   "metadata": {},
   "outputs": [],
   "source": [
    "def transform_governing_law(data, variable):\n",
    "    # 1: New York,  2: Delaware, 3: California, 4: Illinois, 5: Texas, 6: Belgium, 7: Ireland, 8: France, 9: Germany, \n",
    "    # 10: rest of the states in the USA, 11: rest of the countries in the EU\n",
    "    # Since there are only 2 records of Germany, I will change it into group 11 unless we have more data \n",
    "    tmp = np.array(data[variable])\n",
    "\n",
    "    CA_list = ['California', 'California ']\n",
    "    USA_rest_list = ['Florida', 'Georgia',  'Indiana', 'Nevada', 'New Jersey',  'Pennsylvania', 'Wisconsin', 'None']\n",
    "    Germany_list = ['Germany', 'German']\n",
    "    EU_rest_list = ['England', 'England & Wales', 'England and Wales', 'England/Wales', 'English', 'UK', 'Dutch', 'Switzerland' ]\n",
    " \n",
    "    for i in range (tmp.size):\n",
    "        if tmp[i] == 'New York':\n",
    "            tmp[i] = '1'\n",
    "        elif tmp[i] == 'Delaware':\n",
    "            tmp[i] = '2'\n",
    "        elif tmp[i] in CA_list:\n",
    "            tmp[i] = '3'\n",
    "        elif tmp[i] == 'Illinois':\n",
    "            tmp[i] = '4'\n",
    "        elif tmp[i] == 'Texas':\n",
    "            tmp[i] = '5'\n",
    "        elif tmp[i] == 'Belgium':\n",
    "            tmp[i] = '6'\n",
    "        elif tmp[i] == 'Ireland':\n",
    "            tmp[i] = '7'\n",
    "        elif tmp[i] == 'France':\n",
    "            tmp[i] = '8'\n",
    "        elif tmp[i] in Germany_list:\n",
    "            tmp[i] = '9'\n",
    "        elif tmp[i] in USA_rest_list:\n",
    "            tmp[i] = '10'  \n",
    "        elif tmp[i] in EU_rest_list or tmp[i] in Germany_list:\n",
    "            tmp[i] = '11'\n",
    "        else:\n",
    "            raise ValueError('Value not accepted.')\n",
    "                \n",
    "    govn_law = pd.DataFrame(tmp)\n",
    "\n",
    "    return govn_law"
   ]
  },
  {
   "cell_type": "code",
   "execution_count": 40,
   "metadata": {},
   "outputs": [],
   "source": [
    "df_copy['govn_law'] = transform_governing_law(df_copy, 'Governing Law')"
   ]
  },
  {
   "cell_type": "markdown",
   "metadata": {},
   "source": [
    "14. 'Notable Non-Standard Terms'"
   ]
  },
  {
   "cell_type": "code",
   "execution_count": 41,
   "metadata": {},
   "outputs": [],
   "source": [
    "def transform_terms(data, variable):\n",
    "    # 'Not an actual customer' treat as blank\n",
    "    # Change yes or any content to 1 and no or blank to 0\n",
    "    tmp = np.array(data[variable].fillna(0))\n",
    "\n",
    "    for i in range (len(tmp)):\n",
    "        if tmp[i] == 'Not an actual customer' or tmp[i] == 'No' or tmp[i] == 0:\n",
    "            tmp[i] = '0'\n",
    "        else:\n",
    "            tmp[i] = '1'\n",
    "        \n",
    "    terms = pd.DataFrame(tmp)\n",
    "\n",
    "    return terms"
   ]
  },
  {
   "cell_type": "code",
   "execution_count": 42,
   "metadata": {},
   "outputs": [],
   "source": [
    "non_std_terms = transform_terms(df_copy, 'Notable Non-Standard Terms')"
   ]
  },
  {
   "cell_type": "markdown",
   "metadata": {},
   "source": [
    "15. 'Outrageous Terms'"
   ]
  },
  {
   "cell_type": "code",
   "execution_count": 43,
   "metadata": {},
   "outputs": [],
   "source": [
    "outrageous = transform_terms(df_copy, 'Outrageous Terms')"
   ]
  },
  {
   "cell_type": "code",
   "execution_count": 44,
   "metadata": {},
   "outputs": [],
   "source": [
    "def combine_terms(df1, df2):\n",
    "    # Combine 'Notable Non-Standard Terms' and 'Outrageous Terms'\n",
    "    non_std_outrageous = np.array(pd.concat([df1, df2], axis=1)).astype(int)\n",
    "\n",
    "    s = [non_std_outrageous[i][0] for i in range (len(non_std_outrageous))]\n",
    "    n = 0\n",
    "\n",
    "    for i in range (len(s)):\n",
    "        for j in range (2):\n",
    "            n += non_std_outrageous[i][j]\n",
    "        s[i] = n\n",
    "        n = 0    \n",
    "\n",
    "    combined_terms = s.copy()\n",
    "    for i in range (len(combined_terms)):\n",
    "        if combined_terms[i] == 0:\n",
    "            combined_terms[i] = '0'\n",
    "        else: combined_terms[i] = '1'\n",
    "    \n",
    "    return combined_terms"
   ]
  },
  {
   "cell_type": "code",
   "execution_count": 45,
   "metadata": {},
   "outputs": [],
   "source": [
    "df_copy['non_std_outrageous'] = combine_terms(non_std_terms, outrageous)"
   ]
  },
  {
   "cell_type": "markdown",
   "metadata": {},
   "source": [
    "16. 'Account Status'"
   ]
  },
  {
   "cell_type": "code",
   "execution_count": 46,
   "metadata": {},
   "outputs": [],
   "source": [
    "def transform_account_status(data, variable):\n",
    "    # Change status from string to numeric representation \n",
    "    # 1 = Churned/Locked, 0 = Active\n",
    "    tmp = np.array(data[variable])\n",
    "\n",
    "    active_list = ['Active Customer - Coach', 'Active Customer - Content', 'Active Customer - Platform']\n",
    "    churn_list = ['Active Customer - Churned', 'Active Customer - locked', 'Churned Customer']\n",
    "\n",
    "    for i in range (len(tmp)):\n",
    "        if tmp[i] in churn_list:\n",
    "            tmp[i] = '1'\n",
    "        elif tmp[i] in active_list: \n",
    "            tmp[i] = '0'\n",
    "        else:\n",
    "            raise ValueError('Value not accepted.')\n",
    "           \n",
    "    status = pd.DataFrame(tmp).astype(int)\n",
    "\n",
    "    return status"
   ]
  },
  {
   "cell_type": "code",
   "execution_count": 47,
   "metadata": {},
   "outputs": [],
   "source": [
    "df_copy['status'] = transform_account_status(df_copy, 'Account Status')"
   ]
  },
  {
   "cell_type": "markdown",
   "metadata": {},
   "source": [
    "17. 'Expected Renewal ARR * Currency' & 'Expected Renewal ARR *'"
   ]
  },
  {
   "cell_type": "code",
   "execution_count": 48,
   "metadata": {},
   "outputs": [],
   "source": [
    "def transform_arr(data, var1, var2):\n",
    "    # Convert GBP and USD to EUR\n",
    "    # 6/28 curency rate\n",
    "    # 1 USD = 0.88 EUR\n",
    "    # 1 GBP = 1.12 EUR\n",
    "    tmp = np.array(data[[var1, var2]])\n",
    "\n",
    "    for i in range (len(tmp)):\n",
    "        if tmp[i][0] == 'GBP':\n",
    "            tmp[i][1] = tmp[i][1] * 1.12\n",
    "        elif tmp[i][0] == 'USD':\n",
    "            tmp[i][1] = tmp[i][1] * 0.88\n",
    "           \n",
    "    renewal_ARR = pd.DataFrame(tmp)\n",
    "    renewal_ARR = renewal_ARR[1].apply(lambda x: int(x))\n",
    "\n",
    "    return renewal_ARR"
   ]
  },
  {
   "cell_type": "code",
   "execution_count": 49,
   "metadata": {},
   "outputs": [],
   "source": [
    "df_copy['renewal_ARR'] = transform_arr(df_copy, 'Expected Renewal ARR * Currency', 'Expected Renewal ARR *')"
   ]
  },
  {
   "cell_type": "markdown",
   "metadata": {},
   "source": [
    "18. 'Package'"
   ]
  },
  {
   "cell_type": "code",
   "execution_count": 50,
   "metadata": {},
   "outputs": [],
   "source": [
    "def transform_package(data, variable):\n",
    "    # 1: Enterprise, 2: Essential, 3: Plus, 4: Professional, 5: Ultimate\n",
    "    tmp = np.array(data[variable])\n",
    "\n",
    "    for i in range (len(tmp)):\n",
    "        if tmp[i] == 'Enterprise':\n",
    "            tmp[i] = '1'\n",
    "        elif tmp[i] == 'Essential':\n",
    "            tmp[i] = '2'\n",
    "        elif tmp[i] == 'Plus':\n",
    "            tmp[i] = '3'\n",
    "        elif tmp[i] == 'Professional':\n",
    "            tmp[i] = '4'\n",
    "        else: tmp[i] = '5'\n",
    "\n",
    "    package = pd.DataFrame(tmp)\n",
    "\n",
    "    return package"
   ]
  },
  {
   "cell_type": "code",
   "execution_count": 51,
   "metadata": {},
   "outputs": [],
   "source": [
    "df_copy['package'] = transform_package(df_copy, 'Package')"
   ]
  },
  {
   "cell_type": "markdown",
   "metadata": {},
   "source": [
    "19. 'Assigned users'"
   ]
  },
  {
   "cell_type": "code",
   "execution_count": 52,
   "metadata": {},
   "outputs": [],
   "source": [
    "df_copy['assigned_user'] = df_copy['Assigned users'].apply(lambda x: int(x))"
   ]
  },
  {
   "cell_type": "markdown",
   "metadata": {},
   "source": [
    "20.'Segment'"
   ]
  },
  {
   "cell_type": "code",
   "execution_count": 53,
   "metadata": {},
   "outputs": [],
   "source": [
    "def transform_segment(data, variable):\n",
    "    # 1: ENT, 0: MM\n",
    "    tmp = np.array(data[variable])\n",
    "\n",
    "    for i in range (tmp.size):\n",
    "        if tmp[i] == 'ENT':\n",
    "            tmp[i] = '1'\n",
    "        else:\n",
    "            tmp[i] = '0'\n",
    "        \n",
    "    segment = pd.DataFrame(tmp)\n",
    "\n",
    "    return segment"
   ]
  },
  {
   "cell_type": "code",
   "execution_count": 54,
   "metadata": {},
   "outputs": [],
   "source": [
    "df_copy['segment'] = transform_segment(df_copy, 'Segment')"
   ]
  },
  {
   "cell_type": "markdown",
   "metadata": {},
   "source": [
    "21. 'Employees'"
   ]
  },
  {
   "cell_type": "code",
   "execution_count": 55,
   "metadata": {},
   "outputs": [],
   "source": [
    "def transform_emloyees(data, variable):\n",
    "    # Fill in missing value with most frequent value \n",
    "    tmp = np.array([data[variable]]).T\n",
    "\n",
    "    imp_freq = SimpleImputer(missing_values=np.nan, strategy='most_frequent')\n",
    "    emp = imp_freq.fit_transform(tmp)\n",
    "\n",
    "    employees_trans = pd.DataFrame(emp)\n",
    "\n",
    "    return employees_trans"
   ]
  },
  {
   "cell_type": "code",
   "execution_count": 56,
   "metadata": {},
   "outputs": [],
   "source": [
    "df_copy['employees_trans'] = transform_emloyees(df_copy, 'Employees')"
   ]
  },
  {
   "cell_type": "markdown",
   "metadata": {},
   "source": [
    "- <b>Create dataframe for binned variables</b>"
   ]
  },
  {
   "cell_type": "code",
   "execution_count": 57,
   "metadata": {},
   "outputs": [
    {
     "data": {
      "text/plain": [
       "Index(['Customer Name', 'Account Status', 'Okay for Speech API Rollout?',\n",
       "       'Initial Term Start Date', 'Initial Term Length', 'Auto-renewal',\n",
       "       'Termination Rights', 'Marketing', 'Non-Solicit Obligations',\n",
       "       'Legal Terms and Conditions', 'SLA', 'DPA',\n",
       "       'Privacy Policy Change Notice Requirement',\n",
       "       'Data or Security Breach Notice Requirement',\n",
       "       'Change of Control provision', 'Governing Law',\n",
       "       'Notable Non-Standard Terms', 'Outrageous Terms',\n",
       "       'Expected Renewal ARR * Currency', 'Expected Renewal ARR *', 'Package',\n",
       "       'N° of Licenses', 'Used Licenses', 'Assigned users', 'Segment',\n",
       "       'Employees', 'start_date', 'end_date', 'duration', 'speech_api_rollout',\n",
       "       'term_length', 'auto_renewal', 'termination_rights', 'marketing',\n",
       "       'obligations', 'legal_terms', 'sla', 'dpa', 'prvcy_change_note',\n",
       "       'sec_breach_note', 'cntrl_prvsn', 'govn_law', 'non_std_outrageous',\n",
       "       'status', 'renewal_ARR', 'package', 'assigned_user', 'segment',\n",
       "       'employees_trans'],\n",
       "      dtype='object')"
      ]
     },
     "execution_count": 57,
     "metadata": {},
     "output_type": "execute_result"
    }
   ],
   "source": [
    "df_copy.columns"
   ]
  },
  {
   "cell_type": "code",
   "execution_count": 58,
   "metadata": {},
   "outputs": [],
   "source": [
    "## Select transformed variables(binned) into a new dataframe\n",
    "bin_df = df_copy[['speech_api_rollout', 'duration', 'term_length', 'auto_renewal', 'termination_rights', 'marketing',\n",
    "                  'obligations', 'legal_terms', 'sla', 'dpa', 'prvcy_change_note', 'sec_breach_note', 'cntrl_prvsn',\n",
    "                  'govn_law', 'non_std_outrageous', 'status', 'renewal_ARR', 'package',\n",
    "                  'N° of Licenses', 'Used Licenses', 'assigned_user', 'segment', 'employees_trans']]"
   ]
  },
  {
   "cell_type": "markdown",
   "metadata": {},
   "source": [
    "- <b>Seperate dependent and indepednet variables</b>"
   ]
  },
  {
   "cell_type": "code",
   "execution_count": 59,
   "metadata": {},
   "outputs": [
    {
     "name": "stdout",
     "output_type": "stream",
     "text": [
      "x shape is:  (1036, 22) y shape is:  (1036,)\n"
     ]
    }
   ],
   "source": [
    "x = bin_df.drop('status',axis = 1)\n",
    "y = bin_df['status']\n",
    "print( 'x shape is: ', x.shape, 'y shape is: ', y.shape)"
   ]
  },
  {
   "cell_type": "markdown",
   "metadata": {},
   "source": [
    "- <b> Create train and test set split at 67/33 </b>"
   ]
  },
  {
   "cell_type": "code",
   "execution_count": 60,
   "metadata": {},
   "outputs": [
    {
     "name": "stdout",
     "output_type": "stream",
     "text": [
      "x_train shape is:  (694, 22) y_train shape is:  (694,)\n",
      "x_test shape is:  (342, 22) y_test shape is:  (342,)\n"
     ]
    }
   ],
   "source": [
    "x_train, x_test, y_train, y_test = train_test_split(x, y, test_size=0.33, random_state=11)\n",
    "\n",
    "print('x_train shape is: ', x_train.shape, 'y_train shape is: ', y_train.shape)\n",
    "print('x_test shape is: ', x_test.shape, 'y_test shape is: ', y_test.shape)"
   ]
  },
  {
   "cell_type": "markdown",
   "metadata": {},
   "source": [
    "- <b>Use random forest for first time variable screening</b>"
   ]
  },
  {
   "cell_type": "code",
   "execution_count": 74,
   "metadata": {},
   "outputs": [
    {
     "name": "stdout",
     "output_type": "stream",
     "text": [
      "0.7426900584795322\n",
      "[0.0029839  0.14865071 0.         0.0092855  0.00109583 0.01116255\n",
      " 0.00056003 0.02080302 0.01112995 0.00466297 0.00467575 0.00916637\n",
      " 0.00166948 0.03492243 0.00415815 0.23737982 0.04600667 0.11765184\n",
      " 0.09300879 0.10778483 0.01129136 0.12195005]\n"
     ]
    },
    {
     "name": "stderr",
     "output_type": "stream",
     "text": [
      "/anaconda3/lib/python3.7/site-packages/sklearn/ensemble/forest.py:245: FutureWarning: The default value of n_estimators will change from 10 in version 0.20 to 100 in 0.22.\n",
      "  \"10 in version 0.20 to 100 in 0.22.\", FutureWarning)\n"
     ]
    }
   ],
   "source": [
    "rfclf = RandomForestClassifier()\n",
    "rfclf = rfclf.fit(x_train, y_train)\n",
    "\n",
    "#print (forestclf.score(x_train, y_train))\n",
    "print (rfclf.score(x_test, y_test))\n",
    "print (rfclf.feature_importances_)"
   ]
  },
  {
   "cell_type": "markdown",
   "metadata": {},
   "source": [
    "Based on random forest feature importance table and discussion with legal team, if threshhold=0.005, we will continue to test 14 out of 22 variables, which are:\n",
    "<b>\n",
    "1. duration\n",
    "2. auto_renewal \n",
    "3. termination_rights\n",
    "4. legal_terms\n",
    "5. sla\n",
    "6. sec_breach_note\n",
    "7. non_std_outrageous\n",
    "8. renewal_ARR \n",
    "9. package\n",
    "10. N° of Licenses\n",
    "11. Used Licenses\n",
    "12. assigned_user\n",
    "13. segment \n",
    "14. employees_trans\n",
    "</b>"
   ]
  },
  {
   "cell_type": "markdown",
   "metadata": {},
   "source": [
    "- <b> Normalize numeric variables</b>"
   ]
  },
  {
   "cell_type": "code",
   "execution_count": 65,
   "metadata": {},
   "outputs": [],
   "source": [
    "min_max_scaler = preprocessing.MinMaxScaler()\n",
    "x_train_norm = min_max_scaler.fit_transform(x_train[['duration','renewal_ARR','N° of Licenses', 'Used Licenses',\n",
    "                                              'assigned_user', 'employees_trans']])\n",
    "x_test_norm = min_max_scaler.fit_transform(x_test[['duration','renewal_ARR','N° of Licenses', 'Used Licenses',\n",
    "                                              'assigned_user', 'employees_trans']])"
   ]
  },
  {
   "cell_type": "code",
   "execution_count": 66,
   "metadata": {},
   "outputs": [],
   "source": [
    "new_x_train = pd.DataFrame(x_train_norm, columns = ['duration','renewal_ARR','N° of Licenses', 'Used Licenses',\n",
    "                                                    'assigned_user', 'employees_trans'])\n",
    "new_x_test = pd.DataFrame(x_test_norm, columns = ['duration','renewal_ARR','N° of Licenses', 'Used Licenses',\n",
    "                                                    'assigned_user', 'employees_trans'])"
   ]
  },
  {
   "cell_type": "markdown",
   "metadata": {},
   "source": [
    "- <b>Create dummy variables</b>"
   ]
  },
  {
   "cell_type": "code",
   "execution_count": 67,
   "metadata": {},
   "outputs": [],
   "source": [
    "x_train_dummy = pd.get_dummies(x_train[['auto_renewal', 'termination_rights', 'legal_terms', 'sla',\n",
    "                                        'sec_breach_note', 'non_std_outrageous', 'package', 'segment']]).reset_index(drop=True)\n",
    "x_test_dummy = pd.get_dummies(x_test[['auto_renewal', 'termination_rights', 'legal_terms', 'sla',\n",
    "                                        'sec_breach_note', 'non_std_outrageous', 'package', 'segment']]).reset_index(drop=True)"
   ]
  },
  {
   "cell_type": "markdown",
   "metadata": {},
   "source": [
    "- <b> Combine two dataframes into one for modeling </b>"
   ]
  },
  {
   "cell_type": "code",
   "execution_count": 68,
   "metadata": {},
   "outputs": [],
   "source": [
    "x_train_frame = pd.concat([x_train_dummy, new_x_train], axis=1)\n",
    "x_test_frame = pd.concat([x_test_dummy, new_x_test], axis=1)"
   ]
  },
  {
   "cell_type": "code",
   "execution_count": 69,
   "metadata": {},
   "outputs": [],
   "source": [
    "X_train = np.array(x_train_frame)\n",
    "X_test = np.array(x_test_frame)\n",
    "\n",
    "Y_train = np.array(y_train)\n",
    "Y_test = np.array(y_test)"
   ]
  },
  {
   "cell_type": "code",
   "execution_count": 70,
   "metadata": {
    "scrolled": true
   },
   "outputs": [
    {
     "name": "stdout",
     "output_type": "stream",
     "text": [
      "After transformation and feature selection, x_train shape is: (694, 35)\n",
      "After transformation and feature selection, x_test shape is: (342, 35)\n",
      "After transformation and feature selection, y_train shape is: (694,)\n",
      "After transformation and feature selection, y_test shape is: (342,)\n"
     ]
    }
   ],
   "source": [
    "print('After transformation and feature selection, x_train shape is:', X_train.shape)\n",
    "print('After transformation and feature selection, x_test shape is:', X_test.shape)\n",
    "print('After transformation and feature selection, y_train shape is:', Y_train.shape)\n",
    "print('After transformation and feature selection, y_test shape is:', Y_test.shape)"
   ]
  },
  {
   "cell_type": "markdown",
   "metadata": {},
   "source": [
    "## Modeling"
   ]
  },
  {
   "cell_type": "markdown",
   "metadata": {},
   "source": [
    "- <b>Model 1 using default settings</b><br>\n",
    "This method is using L2 penalty (aka Ridge by adding “squared magnitude” of coefficient as penalty term to the loss function).\n",
    "- <b>Model 2 using L1 penalty</b><br>\n",
    "This method is using L1 penalty (aka LASSO by adding “absolute value of magnitude” of coefficient as penalty term to the loss function).\n",
    "- <b>Model 3 using random forest 'gini' as measurement</b>\n",
    "- <b>Model 4 using naive bayes</b>\n",
    "- <b>Model 5 using k-nearest neighbor</b>\n",
    "- <b>Model 6 using linear discriminant analysis </b>\n",
    "- <b>Model 7 using neural network default</b>\n",
    "- <b>Model 8 using neural network logistic activation</b>\n",
    "- <b>Model 9 using neural network tanh activation</b>\n",
    "- <b>Model 10 using neural network sgd solver constant learning rate</b>\n",
    "- <b>Model 11 using neural network sgd solver invscaling learning rate</b>\n",
    "- <b>Model 12 using neural network sgd solver adaptive learning rate</b>"
   ]
  },
  {
   "cell_type": "code",
   "execution_count": 87,
   "metadata": {},
   "outputs": [],
   "source": [
    "logReg1 = LogisticRegression(solver='lbfgs')\n",
    "logReg2 = LogisticRegression(penalty='l1', solver='saga')\n",
    "rfclf1 = RandomForestClassifier(min_samples_split=3)\n",
    "nbclf = naive_bayes.GaussianNB()\n",
    "knnclf = neighbors.KNeighborsClassifier(n_neighbors = 5, weights='distance')\n",
    "ldclf = LinearDiscriminantAnalysis()\n",
    "nnclf = MLPClassifier()\n",
    "nnclf1 = MLPClassifier(activation='logistic')\n",
    "nnclf2 = MLPClassifier(activation='tanh')\n",
    "nnclf3 = MLPClassifier(solver='sgd')\n",
    "nnclf4 = MLPClassifier(solver='sgd', learning_rate='invscaling')\n",
    "nnclf5 = MLPClassifier(solver='sgd', learning_rate='adaptive')\n",
    "\n",
    "algorithms = [logReg1, logReg2, rfclf1, nbclf, knnclf, ldclf, nnclf, nnclf1, nnclf2, nnclf3, nnclf4, nnclf5]"
   ]
  },
  {
   "cell_type": "code",
   "execution_count": 94,
   "metadata": {},
   "outputs": [],
   "source": [
    "def modeling(algo):\n",
    "    algo = algo.fit(X_train, Y_train)\n",
    "    predictions = algo.predict(X_test)\n",
    "\n",
    "    # Use score method to get accuracy of model\n",
    "    score = algo.score(X_test, Y_test)\n",
    "    #print('Accuracy of {} is {:.4f}'.format(algo, score))\n",
    "\n",
    "    cm = metrics.confusion_matrix(Y_test, predictions, labels=[1,0])\n",
    "    #print(cm)\n",
    "\n",
    "    #print(classification_report(Y_test, predictions))\n",
    "    \n",
    "    return score"
   ]
  },
  {
   "cell_type": "code",
   "execution_count": 95,
   "metadata": {},
   "outputs": [
    {
     "name": "stderr",
     "output_type": "stream",
     "text": [
      "/anaconda3/lib/python3.7/site-packages/sklearn/linear_model/sag.py:337: ConvergenceWarning: The max_iter was reached which means the coef_ did not converge\n",
      "  \"the coef_ did not converge\", ConvergenceWarning)\n",
      "/anaconda3/lib/python3.7/site-packages/sklearn/discriminant_analysis.py:388: UserWarning: Variables are collinear.\n",
      "  warnings.warn(\"Variables are collinear.\")\n",
      "/anaconda3/lib/python3.7/site-packages/sklearn/neural_network/multilayer_perceptron.py:566: ConvergenceWarning: Stochastic Optimizer: Maximum iterations (200) reached and the optimization hasn't converged yet.\n",
      "  % self.max_iter, ConvergenceWarning)\n",
      "/anaconda3/lib/python3.7/site-packages/sklearn/neural_network/multilayer_perceptron.py:566: ConvergenceWarning: Stochastic Optimizer: Maximum iterations (200) reached and the optimization hasn't converged yet.\n",
      "  % self.max_iter, ConvergenceWarning)\n",
      "/anaconda3/lib/python3.7/site-packages/sklearn/neural_network/multilayer_perceptron.py:566: ConvergenceWarning: Stochastic Optimizer: Maximum iterations (200) reached and the optimization hasn't converged yet.\n",
      "  % self.max_iter, ConvergenceWarning)\n",
      "/anaconda3/lib/python3.7/site-packages/sklearn/neural_network/multilayer_perceptron.py:566: ConvergenceWarning: Stochastic Optimizer: Maximum iterations (200) reached and the optimization hasn't converged yet.\n",
      "  % self.max_iter, ConvergenceWarning)\n"
     ]
    }
   ],
   "source": [
    "acc = []\n",
    "for i in range (len(algorithms)):\n",
    "    acc.append(modeling(algorithms[i]))"
   ]
  },
  {
   "cell_type": "markdown",
   "metadata": {},
   "source": [
    "<b>Comparing the results from models, logistic regression with L1 penalty has the best performace(accuracy). So we will choose this model for final score computation."
   ]
  },
  {
   "cell_type": "code",
   "execution_count": 97,
   "metadata": {},
   "outputs": [
    {
     "name": "stderr",
     "output_type": "stream",
     "text": [
      "/anaconda3/lib/python3.7/site-packages/sklearn/linear_model/sag.py:337: ConvergenceWarning: The max_iter was reached which means the coef_ did not converge\n",
      "  \"the coef_ did not converge\", ConvergenceWarning)\n"
     ]
    }
   ],
   "source": [
    "model = logReg2.fit(X_train, Y_train)\n",
    "predictions = logReg2.predict(X_test)\n",
    "score = logReg2.score(X_test, Y_test)\n",
    "cm = metrics.confusion_matrix(Y_test, predictions, labels=[1,0])"
   ]
  },
  {
   "cell_type": "code",
   "execution_count": 98,
   "metadata": {},
   "outputs": [
    {
     "data": {
      "text/plain": [
       "Text(0.5, 257.44, 'Predicted label')"
      ]
     },
     "execution_count": 98,
     "metadata": {},
     "output_type": "execute_result"
    },
    {
     "data": {
      "image/png": "[encoded data removed]",
      "text/plain": [
       "<Figure size 432x288 with 2 Axes>"
      ]
     },
     "metadata": {
      "needs_background": "light"
     },
     "output_type": "display_data"
    }
   ],
   "source": [
    "import matplotlib.pyplot as plt\n",
    "import seaborn as sns\n",
    "%matplotlib inline\n",
    "\n",
    "class_names=[0,1] # name  of classes\n",
    "fig, ax = plt.subplots()\n",
    "tick_marks = np.arange(len(class_names))\n",
    "plt.xticks(tick_marks, class_names)\n",
    "plt.yticks(tick_marks, class_names)\n",
    "# create heatmap\n",
    "sns.heatmap(pd.DataFrame(cm), annot=True, cmap=\"YlGnBu\" ,fmt='g')\n",
    "ax.xaxis.set_label_position(\"top\")\n",
    "plt.tight_layout()\n",
    "plt.title('Confusion matrix', y=1.1)\n",
    "plt.ylabel('Actual label')\n",
    "plt.xlabel('Predicted label')"
   ]
  },
  {
   "cell_type": "code",
   "execution_count": 99,
   "metadata": {},
   "outputs": [
    {
     "data": {
      "image/png": "[encoded data removed]",
      "text/plain": [
       "<Figure size 432x288 with 1 Axes>"
      ]
     },
     "metadata": {
      "needs_background": "light"
     },
     "output_type": "display_data"
    }
   ],
   "source": [
    "y_pred_proba = logReg2.predict_proba(X_test)[::,1]\n",
    "fpr, tpr, _ = metrics.roc_curve(Y_test,  y_pred_proba)\n",
    "auc = metrics.roc_auc_score(y_test, y_pred_proba)\n",
    "plt.plot(fpr,tpr,label=\"data 1, auc=\"+str(auc))\n",
    "plt.legend(loc=4)\n",
    "plt.show()"
   ]
  },
  {
   "cell_type": "markdown",
   "metadata": {},
   "source": [
    "AUC score for the case is 0.63. AUC score 1 represents perfect classifier, and 0.5 represents a worthless classifier."
   ]
  },
  {
   "cell_type": "code",
   "execution_count": 100,
   "metadata": {},
   "outputs": [
    {
     "name": "stdout",
     "output_type": "stream",
     "text": [
      "[[ 0.          0.          0.          0.          0.          0.39039065\n",
      "   0.          0.         -0.32973426 -0.05593888  1.40385712  0.\n",
      "   0.63694925  0.          0.          0.         -0.4317903  -1.73722291\n",
      "   0.60964524  1.33329409  0.          0.          0.34575481  0.\n",
      "   0.          0.47580221 -1.25153624 -0.12035668  0.10391241  0.\n",
      "  -5.63414579  0.          0.          0.          0.        ]]\n",
      "[-0.22679842]\n"
     ]
    }
   ],
   "source": [
    "print(logReg2.coef_)\n",
    "print(logReg2.intercept_)"
   ]
  },
  {
   "cell_type": "code",
   "execution_count": 101,
   "metadata": {},
   "outputs": [],
   "source": [
    "## Probalility of getting 1 i.e churn\n",
    "prob_test_1 = logReg2.predict_proba(X_test)[:,1]\n",
    "#prob_test_1"
   ]
  },
  {
   "cell_type": "code",
   "execution_count": 102,
   "metadata": {},
   "outputs": [
    {
     "data": {
      "text/plain": [
       "Index(['auto_renewal_1', 'auto_renewal_2', 'auto_renewal_3', 'auto_renewal_4',\n",
       "       'termination_rights_1', 'termination_rights_2', 'termination_rights_3',\n",
       "       'legal_terms_1', 'legal_terms_3', 'legal_terms_4', 'legal_terms_5',\n",
       "       'legal_terms_6', 'sla_1', 'sla_2', 'sla_3', 'sla_4',\n",
       "       'sec_breach_note_1', 'sec_breach_note_2', 'sec_breach_note_3',\n",
       "       'sec_breach_note_4', 'non_std_outrageous_0', 'non_std_outrageous_1',\n",
       "       'package_1', 'package_2', 'package_3', 'package_4', 'package_5',\n",
       "       'segment_0', 'segment_1', 'duration', 'renewal_ARR', 'N° of Licenses',\n",
       "       'Used Licenses', 'assigned_user', 'employees_trans'],\n",
       "      dtype='object')"
      ]
     },
     "execution_count": 102,
     "metadata": {},
     "output_type": "execute_result"
    }
   ],
   "source": [
    "x_train_frame.columns"
   ]
  },
  {
   "cell_type": "code",
   "execution_count": 103,
   "metadata": {},
   "outputs": [],
   "source": [
    "prob_train_1 = logReg2.predict_proba(X_train)[:,1]\n",
    "#prob_train_1"
   ]
  },
  {
   "cell_type": "markdown",
   "metadata": {},
   "source": [
    "## Validation"
   ]
  },
  {
   "cell_type": "code",
   "execution_count": 104,
   "metadata": {},
   "outputs": [
    {
     "name": "stderr",
     "output_type": "stream",
     "text": [
      "/anaconda3/lib/python3.7/site-packages/sklearn/linear_model/sag.py:337: ConvergenceWarning: The max_iter was reached which means the coef_ did not converge\n",
      "  \"the coef_ did not converge\", ConvergenceWarning)\n",
      "/anaconda3/lib/python3.7/site-packages/sklearn/linear_model/sag.py:337: ConvergenceWarning: The max_iter was reached which means the coef_ did not converge\n",
      "  \"the coef_ did not converge\", ConvergenceWarning)\n",
      "/anaconda3/lib/python3.7/site-packages/sklearn/linear_model/sag.py:337: ConvergenceWarning: The max_iter was reached which means the coef_ did not converge\n",
      "  \"the coef_ did not converge\", ConvergenceWarning)\n",
      "/anaconda3/lib/python3.7/site-packages/sklearn/linear_model/sag.py:337: ConvergenceWarning: The max_iter was reached which means the coef_ did not converge\n",
      "  \"the coef_ did not converge\", ConvergenceWarning)\n",
      "/anaconda3/lib/python3.7/site-packages/sklearn/linear_model/sag.py:337: ConvergenceWarning: The max_iter was reached which means the coef_ did not converge\n",
      "  \"the coef_ did not converge\", ConvergenceWarning)\n",
      "/anaconda3/lib/python3.7/site-packages/sklearn/linear_model/sag.py:337: ConvergenceWarning: The max_iter was reached which means the coef_ did not converge\n",
      "  \"the coef_ did not converge\", ConvergenceWarning)\n"
     ]
    },
    {
     "name": "stdout",
     "output_type": "stream",
     "text": [
      "Overall Accuracy: 0.71 (+/- 0.03)\n"
     ]
    },
    {
     "name": "stderr",
     "output_type": "stream",
     "text": [
      "/anaconda3/lib/python3.7/site-packages/sklearn/linear_model/sag.py:337: ConvergenceWarning: The max_iter was reached which means the coef_ did not converge\n",
      "  \"the coef_ did not converge\", ConvergenceWarning)\n",
      "/anaconda3/lib/python3.7/site-packages/sklearn/linear_model/sag.py:337: ConvergenceWarning: The max_iter was reached which means the coef_ did not converge\n",
      "  \"the coef_ did not converge\", ConvergenceWarning)\n",
      "/anaconda3/lib/python3.7/site-packages/sklearn/linear_model/sag.py:337: ConvergenceWarning: The max_iter was reached which means the coef_ did not converge\n",
      "  \"the coef_ did not converge\", ConvergenceWarning)\n",
      "/anaconda3/lib/python3.7/site-packages/sklearn/linear_model/sag.py:337: ConvergenceWarning: The max_iter was reached which means the coef_ did not converge\n",
      "  \"the coef_ did not converge\", ConvergenceWarning)\n"
     ]
    }
   ],
   "source": [
    "from sklearn.model_selection import cross_val_score\n",
    "cv_scores = cross_val_score(model, x, y, cv=10)\n",
    "cv_scores\n",
    "print(\"Overall Accuracy: %0.2f (+/- %0.2f)\" % (cv_scores.mean(), cv_scores.std() * 2))"
   ]
  },
  {
   "cell_type": "markdown",
   "metadata": {},
   "source": [
    "## Application"
   ]
  },
  {
   "cell_type": "code",
   "execution_count": 107,
   "metadata": {},
   "outputs": [],
   "source": [
    "x_name = df_copy['Customer Name']\n",
    "x_train_name, x_test_name = train_test_split(x_name, test_size=0.33, random_state=11)\n",
    "#x_train_name"
   ]
  },
  {
   "cell_type": "code",
   "execution_count": 108,
   "metadata": {},
   "outputs": [],
   "source": [
    "p_train_1 = pd.DataFrame(prob_train_1)\n",
    "p_test_1 = pd.DataFrame(prob_test_1)\n",
    "p_1 = np.array(pd.concat([p_test_1, p_train_1]).reset_index(drop=True))\n",
    "\n",
    "p = np.array([p_1[i][0] for i in range (len(p_1))])"
   ]
  },
  {
   "cell_type": "code",
   "execution_count": 128,
   "metadata": {},
   "outputs": [],
   "source": [
    "def compute_quantile(df):\n",
    "    tmp = pd.DataFrame(df)\n",
    "    tmp = np.array(tmp[0].sort_values())\n",
    "    \n",
    "    lv1_len = math.ceil(1/5 * len(tmp))\n",
    "    lv2_len = math.ceil(2/5 * len(tmp))\n",
    "    lv3_len = math.ceil(3/5 * len(tmp))\n",
    "    lv4_len = math.ceil(4/5 * len(tmp))\n",
    "    \n",
    "    level1 = tmp[lv1_len]\n",
    "    level2 = tmp[lv2_len]\n",
    "    level3 = tmp[lv3_len]\n",
    "    level4 = tmp[lv4_len]\n",
    "    \n",
    "    return level1, level2, level3, level4"
   ]
  },
  {
   "cell_type": "code",
   "execution_count": 139,
   "metadata": {},
   "outputs": [],
   "source": [
    "p_level1, p_level2, p_level3, p_level4 = compute_quantile(p)\n",
    "#print(p_level1, p_levl2, p_level3, p_level4)"
   ]
  },
  {
   "cell_type": "markdown",
   "metadata": {},
   "source": [
    "- <b>Apply score back to train set</b>"
   ]
  },
  {
   "cell_type": "code",
   "execution_count": 140,
   "metadata": {},
   "outputs": [],
   "source": [
    "def compute_score(df):\n",
    "    p_bin = np.array(df)\n",
    "    p_bin = [p_bin[i][0] for i in range (len(p_bin))]\n",
    "\n",
    "    for i in range (len(p_bin)):\n",
    "        if p_bin[i] <= p_level1:\n",
    "            p_bin[i] = '1'\n",
    "        elif p_level1 < p_bin[i] <= p_level2:\n",
    "            p_bin[i] = '2'\n",
    "        elif p_level2 < p_bin[i] <= p_level3:\n",
    "            p_bin[i] = '3'\n",
    "        elif p_level3 < p_bin[i] <= p_level4:\n",
    "            p_bin[i] = '4'\n",
    "        else:\n",
    "            p_bin[i] = '5'\n",
    "        \n",
    "    return p_bin       "
   ]
  },
  {
   "cell_type": "code",
   "execution_count": 156,
   "metadata": {},
   "outputs": [],
   "source": [
    "train_score = compute_score(p_train_1)\n",
    "\n",
    "x_train_new = pd.DataFrame(x_train_name).reset_index(drop=True)\n",
    "x_train_new['prob'] = p_train_1\n",
    "x_train_new['score'] = train_score"
   ]
  },
  {
   "cell_type": "markdown",
   "metadata": {},
   "source": [
    "- <b>Apply score back to test set</b>"
   ]
  },
  {
   "cell_type": "code",
   "execution_count": 158,
   "metadata": {},
   "outputs": [],
   "source": [
    "test_score = compute_score(p_test_1)\n",
    "\n",
    "x_test_new = pd.DataFrame(x_test_name).reset_index(drop=True)\n",
    "x_test_new['prob'] = p_test_1\n",
    "x_test_new['score'] = test_score"
   ]
  },
  {
   "cell_type": "code",
   "execution_count": 165,
   "metadata": {},
   "outputs": [],
   "source": [
    "combined = pd.concat([x_train_new, x_test_new], ignore_index=True)\n",
    "combined = combined.sort_values(by=['Customer Name']).reset_index(drop=True)"
   ]
  },
  {
   "cell_type": "code",
   "execution_count": 167,
   "metadata": {},
   "outputs": [],
   "source": [
    "combined.to_csv('Customer_Health_Score.csv', index=False)"
   ]
  },
  {
   "cell_type": "code",
   "execution_count": null,
   "metadata": {},
   "outputs": [],
   "source": []
  }
 ],
 "metadata": {
  "kernelspec": {
   "display_name": "Python 3",
   "language": "python",
   "name": "python3"
  },
  "language_info": {
   "codemirror_mode": {
    "name": "ipython",
    "version": 3
   },
   "file_extension": ".py",
   "mimetype": "text/x-python",
   "name": "python",
   "nbconvert_exporter": "python",
   "pygments_lexer": "ipython3",
   "version": "3.7.3"
  }
 },
 "nbformat": 4,
 "nbformat_minor": 2
}
